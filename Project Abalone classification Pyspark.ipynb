{
 "cells": [
  {
   "cell_type": "markdown",
   "metadata": {},
   "source": [
    "ABALONE DATASET\n",
    "\n",
    "This dataset was obtained from UCI Machine Learning Repository. A full description of this dataset can be obtained from the website. The objective of this dataset is to predict the age of abalone based on the given eight attributes-sex, length, diameter, height, whole weight, shucked weight, viscera weight, and shell weight. The age is determined by the number of rings. Getting this dataset is expensive since cutting each abalone to measure the ring is an exhaustive and expensive approach. The machine learning process aims to overcome this difficulty by predicting the age of abalone from the aforementioned eight attributes.\n",
    "\n",
    "The process will mostly involve regression methods. However, classification methods are not rule out as well. This whole document will demonstrate the application of several thorough ML processes, including training and testing, cross-validation, and model evaluation.\n",
    "\n",
    "This project does not serve to complement or compete the existing research on this dataset. Rather, it is a demonstration of my personal skills and aptitude on using Scikit-Learn, Pandas, Numpy, and Matplotlib."
   ]
  },
  {
   "cell_type": "code",
   "execution_count": 1,
   "metadata": {},
   "outputs": [],
   "source": [
    "# getting started with the model \n",
    "# importing required libraries/packages \n",
    "\n",
    "import matplotlib.pyplot as plt\n",
    "from sklearn.ensemble import RandomForestClassifier\n",
    "from sklearn.neighbors import KNeighborsClassifier\n",
    "from sklearn.svm import SVC\n",
    "from sklearn.metrics import accuracy_score\n",
    "from sklearn.preprocessing import StandardScaler, LabelEncoder\n",
    "from sklearn.model_selection import train_test_split, GridSearchCV, RandomizedSearchCV\n",
    "import pandas as pd \n",
    "from pandas.plotting import scatter_matrix\n",
    "import numpy as np\n",
    "from sklearn.model_selection import cross_val_score\n",
    "%matplotlib inline\n",
    "\n",
    "import warnings\n",
    "warnings.filterwarnings('ignore')\n",
    "%matplotlib inline"
   ]
  },
  {
   "cell_type": "code",
   "execution_count": 2,
   "metadata": {},
   "outputs": [
    {
     "data": {
      "text/html": [
       "<div>\n",
       "<style scoped>\n",
       "    .dataframe tbody tr th:only-of-type {\n",
       "        vertical-align: middle;\n",
       "    }\n",
       "\n",
       "    .dataframe tbody tr th {\n",
       "        vertical-align: top;\n",
       "    }\n",
       "\n",
       "    .dataframe thead th {\n",
       "        text-align: right;\n",
       "    }\n",
       "</style>\n",
       "<table border=\"1\" class=\"dataframe\">\n",
       "  <thead>\n",
       "    <tr style=\"text-align: right;\">\n",
       "      <th></th>\n",
       "      <th>Sex</th>\n",
       "      <th>Length</th>\n",
       "      <th>Diameter</th>\n",
       "      <th>Height</th>\n",
       "      <th>Whole weight</th>\n",
       "      <th>Shucked weight</th>\n",
       "      <th>Viscera weightShell weight</th>\n",
       "      <th>Shell weight</th>\n",
       "      <th>Rings</th>\n",
       "    </tr>\n",
       "  </thead>\n",
       "  <tbody>\n",
       "    <tr>\n",
       "      <th>0</th>\n",
       "      <td>M</td>\n",
       "      <td>0.455</td>\n",
       "      <td>0.365</td>\n",
       "      <td>0.095</td>\n",
       "      <td>0.5140</td>\n",
       "      <td>0.2245</td>\n",
       "      <td>0.1010</td>\n",
       "      <td>0.150</td>\n",
       "      <td>15.0</td>\n",
       "    </tr>\n",
       "    <tr>\n",
       "      <th>1</th>\n",
       "      <td>M</td>\n",
       "      <td>0.350</td>\n",
       "      <td>0.265</td>\n",
       "      <td>0.090</td>\n",
       "      <td>0.2255</td>\n",
       "      <td>0.0995</td>\n",
       "      <td>0.0485</td>\n",
       "      <td>0.070</td>\n",
       "      <td>7.0</td>\n",
       "    </tr>\n",
       "    <tr>\n",
       "      <th>2</th>\n",
       "      <td>F</td>\n",
       "      <td>0.530</td>\n",
       "      <td>0.420</td>\n",
       "      <td>0.135</td>\n",
       "      <td>0.6770</td>\n",
       "      <td>0.2565</td>\n",
       "      <td>0.1415</td>\n",
       "      <td>0.210</td>\n",
       "      <td>9.0</td>\n",
       "    </tr>\n",
       "    <tr>\n",
       "      <th>3</th>\n",
       "      <td>M</td>\n",
       "      <td>0.440</td>\n",
       "      <td>0.365</td>\n",
       "      <td>0.125</td>\n",
       "      <td>0.5160</td>\n",
       "      <td>0.2155</td>\n",
       "      <td>0.1140</td>\n",
       "      <td>0.155</td>\n",
       "      <td>10.0</td>\n",
       "    </tr>\n",
       "    <tr>\n",
       "      <th>4</th>\n",
       "      <td>I</td>\n",
       "      <td>0.330</td>\n",
       "      <td>0.255</td>\n",
       "      <td>0.080</td>\n",
       "      <td>0.2050</td>\n",
       "      <td>0.0895</td>\n",
       "      <td>0.0395</td>\n",
       "      <td>0.055</td>\n",
       "      <td>7.0</td>\n",
       "    </tr>\n",
       "  </tbody>\n",
       "</table>\n",
       "</div>"
      ],
      "text/plain": [
       "  Sex  Length  Diameter  Height  Whole weight  Shucked weight  \\\n",
       "0   M   0.455     0.365   0.095        0.5140          0.2245   \n",
       "1   M   0.350     0.265   0.090        0.2255          0.0995   \n",
       "2   F   0.530     0.420   0.135        0.6770          0.2565   \n",
       "3   M   0.440     0.365   0.125        0.5160          0.2155   \n",
       "4   I   0.330     0.255   0.080        0.2050          0.0895   \n",
       "\n",
       "   Viscera weightShell weight  Shell weight  Rings  \n",
       "0                      0.1010         0.150   15.0  \n",
       "1                      0.0485         0.070    7.0  \n",
       "2                      0.1415         0.210    9.0  \n",
       "3                      0.1140         0.155   10.0  \n",
       "4                      0.0395         0.055    7.0  "
      ]
     },
     "execution_count": 2,
     "metadata": {},
     "output_type": "execute_result"
    }
   ],
   "source": [
    "# Importing and Reading the Dataset\n",
    "import os\n",
    "os.chdir(r'C:\\Users\\Lalitha\\Desktop\\Data Science\\Machine learning\\notebooks\\data')\n",
    "os.getcwd()\n",
    "data=pd.read_csv('abalone.csv')\n",
    "data.head()"
   ]
  },
  {
   "cell_type": "code",
   "execution_count": 3,
   "metadata": {},
   "outputs": [
    {
     "data": {
      "text/plain": [
       "Sex                           2\n",
       "Length                        2\n",
       "Diameter                      2\n",
       "Height                        2\n",
       "Whole weight                  2\n",
       "Shucked weight                2\n",
       "Viscera weightShell weight    2\n",
       "Shell weight                  2\n",
       "Rings                         2\n",
       "dtype: int64"
      ]
     },
     "execution_count": 3,
     "metadata": {},
     "output_type": "execute_result"
    }
   ],
   "source": [
    "#check the missing values\n",
    "data.isna().sum()"
   ]
  },
  {
   "cell_type": "code",
   "execution_count": 4,
   "metadata": {},
   "outputs": [],
   "source": [
    "#Fill the missing values with mean\n",
    "data.fillna(data.mean(),inplace=True)"
   ]
  },
  {
   "cell_type": "code",
   "execution_count": 5,
   "metadata": {},
   "outputs": [
    {
     "data": {
      "text/plain": [
       "Sex                           2\n",
       "Length                        0\n",
       "Diameter                      0\n",
       "Height                        0\n",
       "Whole weight                  0\n",
       "Shucked weight                0\n",
       "Viscera weightShell weight    0\n",
       "Shell weight                  0\n",
       "Rings                         0\n",
       "dtype: int64"
      ]
     },
     "execution_count": 5,
     "metadata": {},
     "output_type": "execute_result"
    }
   ],
   "source": [
    "data.isna().sum()"
   ]
  },
  {
   "cell_type": "code",
   "execution_count": 6,
   "metadata": {},
   "outputs": [
    {
     "data": {
      "text/html": [
       "<div>\n",
       "<style scoped>\n",
       "    .dataframe tbody tr th:only-of-type {\n",
       "        vertical-align: middle;\n",
       "    }\n",
       "\n",
       "    .dataframe tbody tr th {\n",
       "        vertical-align: top;\n",
       "    }\n",
       "\n",
       "    .dataframe thead th {\n",
       "        text-align: right;\n",
       "    }\n",
       "</style>\n",
       "<table border=\"1\" class=\"dataframe\">\n",
       "  <thead>\n",
       "    <tr style=\"text-align: right;\">\n",
       "      <th></th>\n",
       "      <th>Sex</th>\n",
       "      <th>Length</th>\n",
       "      <th>Diameter</th>\n",
       "      <th>Height</th>\n",
       "      <th>Whole weight</th>\n",
       "      <th>Shucked weight</th>\n",
       "      <th>Viscera weightShell weight</th>\n",
       "      <th>Shell weight</th>\n",
       "      <th>Rings</th>\n",
       "    </tr>\n",
       "  </thead>\n",
       "  <tbody>\n",
       "    <tr>\n",
       "      <th>0</th>\n",
       "      <td>M</td>\n",
       "      <td>0.455</td>\n",
       "      <td>0.365</td>\n",
       "      <td>0.095</td>\n",
       "      <td>0.5140</td>\n",
       "      <td>0.2245</td>\n",
       "      <td>0.1010</td>\n",
       "      <td>0.1500</td>\n",
       "      <td>15.0</td>\n",
       "    </tr>\n",
       "    <tr>\n",
       "      <th>1</th>\n",
       "      <td>M</td>\n",
       "      <td>0.350</td>\n",
       "      <td>0.265</td>\n",
       "      <td>0.090</td>\n",
       "      <td>0.2255</td>\n",
       "      <td>0.0995</td>\n",
       "      <td>0.0485</td>\n",
       "      <td>0.0700</td>\n",
       "      <td>7.0</td>\n",
       "    </tr>\n",
       "    <tr>\n",
       "      <th>2</th>\n",
       "      <td>F</td>\n",
       "      <td>0.530</td>\n",
       "      <td>0.420</td>\n",
       "      <td>0.135</td>\n",
       "      <td>0.6770</td>\n",
       "      <td>0.2565</td>\n",
       "      <td>0.1415</td>\n",
       "      <td>0.2100</td>\n",
       "      <td>9.0</td>\n",
       "    </tr>\n",
       "    <tr>\n",
       "      <th>3</th>\n",
       "      <td>M</td>\n",
       "      <td>0.440</td>\n",
       "      <td>0.365</td>\n",
       "      <td>0.125</td>\n",
       "      <td>0.5160</td>\n",
       "      <td>0.2155</td>\n",
       "      <td>0.1140</td>\n",
       "      <td>0.1550</td>\n",
       "      <td>10.0</td>\n",
       "    </tr>\n",
       "    <tr>\n",
       "      <th>4</th>\n",
       "      <td>I</td>\n",
       "      <td>0.330</td>\n",
       "      <td>0.255</td>\n",
       "      <td>0.080</td>\n",
       "      <td>0.2050</td>\n",
       "      <td>0.0895</td>\n",
       "      <td>0.0395</td>\n",
       "      <td>0.0550</td>\n",
       "      <td>7.0</td>\n",
       "    </tr>\n",
       "    <tr>\n",
       "      <th>...</th>\n",
       "      <td>...</td>\n",
       "      <td>...</td>\n",
       "      <td>...</td>\n",
       "      <td>...</td>\n",
       "      <td>...</td>\n",
       "      <td>...</td>\n",
       "      <td>...</td>\n",
       "      <td>...</td>\n",
       "      <td>...</td>\n",
       "    </tr>\n",
       "    <tr>\n",
       "      <th>4172</th>\n",
       "      <td>F</td>\n",
       "      <td>0.565</td>\n",
       "      <td>0.450</td>\n",
       "      <td>0.165</td>\n",
       "      <td>0.8870</td>\n",
       "      <td>0.3700</td>\n",
       "      <td>0.2390</td>\n",
       "      <td>0.2490</td>\n",
       "      <td>11.0</td>\n",
       "    </tr>\n",
       "    <tr>\n",
       "      <th>4173</th>\n",
       "      <td>M</td>\n",
       "      <td>0.590</td>\n",
       "      <td>0.440</td>\n",
       "      <td>0.135</td>\n",
       "      <td>0.9660</td>\n",
       "      <td>0.4390</td>\n",
       "      <td>0.2145</td>\n",
       "      <td>0.2605</td>\n",
       "      <td>10.0</td>\n",
       "    </tr>\n",
       "    <tr>\n",
       "      <th>4174</th>\n",
       "      <td>M</td>\n",
       "      <td>0.600</td>\n",
       "      <td>0.475</td>\n",
       "      <td>0.205</td>\n",
       "      <td>1.1760</td>\n",
       "      <td>0.5255</td>\n",
       "      <td>0.2875</td>\n",
       "      <td>0.3080</td>\n",
       "      <td>9.0</td>\n",
       "    </tr>\n",
       "    <tr>\n",
       "      <th>4175</th>\n",
       "      <td>F</td>\n",
       "      <td>0.625</td>\n",
       "      <td>0.485</td>\n",
       "      <td>0.150</td>\n",
       "      <td>1.0945</td>\n",
       "      <td>0.5310</td>\n",
       "      <td>0.2610</td>\n",
       "      <td>0.2960</td>\n",
       "      <td>10.0</td>\n",
       "    </tr>\n",
       "    <tr>\n",
       "      <th>4176</th>\n",
       "      <td>M</td>\n",
       "      <td>0.710</td>\n",
       "      <td>0.555</td>\n",
       "      <td>0.195</td>\n",
       "      <td>1.9485</td>\n",
       "      <td>0.9455</td>\n",
       "      <td>0.3765</td>\n",
       "      <td>0.4950</td>\n",
       "      <td>12.0</td>\n",
       "    </tr>\n",
       "  </tbody>\n",
       "</table>\n",
       "<p>4177 rows × 9 columns</p>\n",
       "</div>"
      ],
      "text/plain": [
       "     Sex  Length  Diameter  Height  Whole weight  Shucked weight  \\\n",
       "0      M   0.455     0.365   0.095        0.5140          0.2245   \n",
       "1      M   0.350     0.265   0.090        0.2255          0.0995   \n",
       "2      F   0.530     0.420   0.135        0.6770          0.2565   \n",
       "3      M   0.440     0.365   0.125        0.5160          0.2155   \n",
       "4      I   0.330     0.255   0.080        0.2050          0.0895   \n",
       "...   ..     ...       ...     ...           ...             ...   \n",
       "4172   F   0.565     0.450   0.165        0.8870          0.3700   \n",
       "4173   M   0.590     0.440   0.135        0.9660          0.4390   \n",
       "4174   M   0.600     0.475   0.205        1.1760          0.5255   \n",
       "4175   F   0.625     0.485   0.150        1.0945          0.5310   \n",
       "4176   M   0.710     0.555   0.195        1.9485          0.9455   \n",
       "\n",
       "      Viscera weightShell weight  Shell weight  Rings  \n",
       "0                         0.1010        0.1500   15.0  \n",
       "1                         0.0485        0.0700    7.0  \n",
       "2                         0.1415        0.2100    9.0  \n",
       "3                         0.1140        0.1550   10.0  \n",
       "4                         0.0395        0.0550    7.0  \n",
       "...                          ...           ...    ...  \n",
       "4172                      0.2390        0.2490   11.0  \n",
       "4173                      0.2145        0.2605   10.0  \n",
       "4174                      0.2875        0.3080    9.0  \n",
       "4175                      0.2610        0.2960   10.0  \n",
       "4176                      0.3765        0.4950   12.0  \n",
       "\n",
       "[4177 rows x 9 columns]"
      ]
     },
     "execution_count": 6,
     "metadata": {},
     "output_type": "execute_result"
    }
   ],
   "source": [
    "data.dropna(subset=['Sex'])"
   ]
  },
  {
   "cell_type": "code",
   "execution_count": 6,
   "metadata": {},
   "outputs": [
    {
     "data": {
      "text/html": [
       "<div>\n",
       "<style scoped>\n",
       "    .dataframe tbody tr th:only-of-type {\n",
       "        vertical-align: middle;\n",
       "    }\n",
       "\n",
       "    .dataframe tbody tr th {\n",
       "        vertical-align: top;\n",
       "    }\n",
       "\n",
       "    .dataframe thead th {\n",
       "        text-align: right;\n",
       "    }\n",
       "</style>\n",
       "<table border=\"1\" class=\"dataframe\">\n",
       "  <thead>\n",
       "    <tr style=\"text-align: right;\">\n",
       "      <th></th>\n",
       "      <th>Length</th>\n",
       "      <th>Diameter</th>\n",
       "      <th>Height</th>\n",
       "      <th>Whole weight</th>\n",
       "      <th>Shucked weight</th>\n",
       "      <th>Viscera weightShell weight</th>\n",
       "      <th>Shell weight</th>\n",
       "      <th>Rings</th>\n",
       "    </tr>\n",
       "  </thead>\n",
       "  <tbody>\n",
       "    <tr>\n",
       "      <th>Length</th>\n",
       "      <td>1.000000</td>\n",
       "      <td>0.986812</td>\n",
       "      <td>0.827554</td>\n",
       "      <td>0.925261</td>\n",
       "      <td>0.897914</td>\n",
       "      <td>0.903018</td>\n",
       "      <td>0.897706</td>\n",
       "      <td>0.556720</td>\n",
       "    </tr>\n",
       "    <tr>\n",
       "      <th>Diameter</th>\n",
       "      <td>0.986812</td>\n",
       "      <td>1.000000</td>\n",
       "      <td>0.833684</td>\n",
       "      <td>0.925452</td>\n",
       "      <td>0.893162</td>\n",
       "      <td>0.899724</td>\n",
       "      <td>0.905330</td>\n",
       "      <td>0.574660</td>\n",
       "    </tr>\n",
       "    <tr>\n",
       "      <th>Height</th>\n",
       "      <td>0.827554</td>\n",
       "      <td>0.833684</td>\n",
       "      <td>1.000000</td>\n",
       "      <td>0.819221</td>\n",
       "      <td>0.774972</td>\n",
       "      <td>0.798319</td>\n",
       "      <td>0.817338</td>\n",
       "      <td>0.557467</td>\n",
       "    </tr>\n",
       "    <tr>\n",
       "      <th>Whole weight</th>\n",
       "      <td>0.925261</td>\n",
       "      <td>0.925452</td>\n",
       "      <td>0.819221</td>\n",
       "      <td>1.000000</td>\n",
       "      <td>0.969405</td>\n",
       "      <td>0.966375</td>\n",
       "      <td>0.955355</td>\n",
       "      <td>0.540390</td>\n",
       "    </tr>\n",
       "    <tr>\n",
       "      <th>Shucked weight</th>\n",
       "      <td>0.897914</td>\n",
       "      <td>0.893162</td>\n",
       "      <td>0.774972</td>\n",
       "      <td>0.969405</td>\n",
       "      <td>1.000000</td>\n",
       "      <td>0.931961</td>\n",
       "      <td>0.882617</td>\n",
       "      <td>0.420884</td>\n",
       "    </tr>\n",
       "    <tr>\n",
       "      <th>Viscera weightShell weight</th>\n",
       "      <td>0.903018</td>\n",
       "      <td>0.899724</td>\n",
       "      <td>0.798319</td>\n",
       "      <td>0.966375</td>\n",
       "      <td>0.931961</td>\n",
       "      <td>1.000000</td>\n",
       "      <td>0.907656</td>\n",
       "      <td>0.503819</td>\n",
       "    </tr>\n",
       "    <tr>\n",
       "      <th>Shell weight</th>\n",
       "      <td>0.897706</td>\n",
       "      <td>0.905330</td>\n",
       "      <td>0.817338</td>\n",
       "      <td>0.955355</td>\n",
       "      <td>0.882617</td>\n",
       "      <td>0.907656</td>\n",
       "      <td>1.000000</td>\n",
       "      <td>0.627574</td>\n",
       "    </tr>\n",
       "    <tr>\n",
       "      <th>Rings</th>\n",
       "      <td>0.556720</td>\n",
       "      <td>0.574660</td>\n",
       "      <td>0.557467</td>\n",
       "      <td>0.540390</td>\n",
       "      <td>0.420884</td>\n",
       "      <td>0.503819</td>\n",
       "      <td>0.627574</td>\n",
       "      <td>1.000000</td>\n",
       "    </tr>\n",
       "  </tbody>\n",
       "</table>\n",
       "</div>"
      ],
      "text/plain": [
       "                              Length  Diameter    Height  Whole weight  \\\n",
       "Length                      1.000000  0.986812  0.827554      0.925261   \n",
       "Diameter                    0.986812  1.000000  0.833684      0.925452   \n",
       "Height                      0.827554  0.833684  1.000000      0.819221   \n",
       "Whole weight                0.925261  0.925452  0.819221      1.000000   \n",
       "Shucked weight              0.897914  0.893162  0.774972      0.969405   \n",
       "Viscera weightShell weight  0.903018  0.899724  0.798319      0.966375   \n",
       "Shell weight                0.897706  0.905330  0.817338      0.955355   \n",
       "Rings                       0.556720  0.574660  0.557467      0.540390   \n",
       "\n",
       "                            Shucked weight  Viscera weightShell weight  \\\n",
       "Length                            0.897914                    0.903018   \n",
       "Diameter                          0.893162                    0.899724   \n",
       "Height                            0.774972                    0.798319   \n",
       "Whole weight                      0.969405                    0.966375   \n",
       "Shucked weight                    1.000000                    0.931961   \n",
       "Viscera weightShell weight        0.931961                    1.000000   \n",
       "Shell weight                      0.882617                    0.907656   \n",
       "Rings                             0.420884                    0.503819   \n",
       "\n",
       "                            Shell weight     Rings  \n",
       "Length                          0.897706  0.556720  \n",
       "Diameter                        0.905330  0.574660  \n",
       "Height                          0.817338  0.557467  \n",
       "Whole weight                    0.955355  0.540390  \n",
       "Shucked weight                  0.882617  0.420884  \n",
       "Viscera weightShell weight      0.907656  0.503819  \n",
       "Shell weight                    1.000000  0.627574  \n",
       "Rings                           0.627574  1.000000  "
      ]
     },
     "execution_count": 6,
     "metadata": {},
     "output_type": "execute_result"
    }
   ],
   "source": [
    "#correlation study\n",
    "data.corr()"
   ]
  },
  {
   "cell_type": "code",
   "execution_count": 8,
   "metadata": {},
   "outputs": [
    {
     "data": {
      "text/plain": [
       "M    1528\n",
       "I    1342\n",
       "F    1307\n",
       "Name: Sex, dtype: int64"
      ]
     },
     "execution_count": 8,
     "metadata": {},
     "output_type": "execute_result"
    }
   ],
   "source": [
    "# let's explore sex, it is a categorical variable \n",
    "data['Sex'].value_counts()"
   ]
  },
  {
   "cell_type": "code",
   "execution_count": 9,
   "metadata": {},
   "outputs": [
    {
     "data": {
      "text/html": [
       "<div>\n",
       "<style scoped>\n",
       "    .dataframe tbody tr th:only-of-type {\n",
       "        vertical-align: middle;\n",
       "    }\n",
       "\n",
       "    .dataframe tbody tr th {\n",
       "        vertical-align: top;\n",
       "    }\n",
       "\n",
       "    .dataframe thead th {\n",
       "        text-align: right;\n",
       "    }\n",
       "</style>\n",
       "<table border=\"1\" class=\"dataframe\">\n",
       "  <thead>\n",
       "    <tr style=\"text-align: right;\">\n",
       "      <th></th>\n",
       "      <th>Sex</th>\n",
       "      <th>Length</th>\n",
       "      <th>Diameter</th>\n",
       "      <th>Height</th>\n",
       "      <th>Whole weight</th>\n",
       "      <th>Shucked weight</th>\n",
       "      <th>Viscera weightShell weight</th>\n",
       "      <th>Shell weight</th>\n",
       "      <th>Rings</th>\n",
       "    </tr>\n",
       "  </thead>\n",
       "  <tbody>\n",
       "    <tr>\n",
       "      <th>0</th>\n",
       "      <td>2</td>\n",
       "      <td>0.455</td>\n",
       "      <td>0.365</td>\n",
       "      <td>0.095</td>\n",
       "      <td>0.5140</td>\n",
       "      <td>0.2245</td>\n",
       "      <td>0.1010</td>\n",
       "      <td>0.150</td>\n",
       "      <td>15.0</td>\n",
       "    </tr>\n",
       "    <tr>\n",
       "      <th>1</th>\n",
       "      <td>2</td>\n",
       "      <td>0.350</td>\n",
       "      <td>0.265</td>\n",
       "      <td>0.090</td>\n",
       "      <td>0.2255</td>\n",
       "      <td>0.0995</td>\n",
       "      <td>0.0485</td>\n",
       "      <td>0.070</td>\n",
       "      <td>7.0</td>\n",
       "    </tr>\n",
       "    <tr>\n",
       "      <th>2</th>\n",
       "      <td>0</td>\n",
       "      <td>0.530</td>\n",
       "      <td>0.420</td>\n",
       "      <td>0.135</td>\n",
       "      <td>0.6770</td>\n",
       "      <td>0.2565</td>\n",
       "      <td>0.1415</td>\n",
       "      <td>0.210</td>\n",
       "      <td>9.0</td>\n",
       "    </tr>\n",
       "    <tr>\n",
       "      <th>3</th>\n",
       "      <td>2</td>\n",
       "      <td>0.440</td>\n",
       "      <td>0.365</td>\n",
       "      <td>0.125</td>\n",
       "      <td>0.5160</td>\n",
       "      <td>0.2155</td>\n",
       "      <td>0.1140</td>\n",
       "      <td>0.155</td>\n",
       "      <td>10.0</td>\n",
       "    </tr>\n",
       "    <tr>\n",
       "      <th>4</th>\n",
       "      <td>1</td>\n",
       "      <td>0.330</td>\n",
       "      <td>0.255</td>\n",
       "      <td>0.080</td>\n",
       "      <td>0.2050</td>\n",
       "      <td>0.0895</td>\n",
       "      <td>0.0395</td>\n",
       "      <td>0.055</td>\n",
       "      <td>7.0</td>\n",
       "    </tr>\n",
       "  </tbody>\n",
       "</table>\n",
       "</div>"
      ],
      "text/plain": [
       "   Sex  Length  Diameter  Height  Whole weight  Shucked weight  \\\n",
       "0    2   0.455     0.365   0.095        0.5140          0.2245   \n",
       "1    2   0.350     0.265   0.090        0.2255          0.0995   \n",
       "2    0   0.530     0.420   0.135        0.6770          0.2565   \n",
       "3    2   0.440     0.365   0.125        0.5160          0.2155   \n",
       "4    1   0.330     0.255   0.080        0.2050          0.0895   \n",
       "\n",
       "   Viscera weightShell weight  Shell weight  Rings  \n",
       "0                      0.1010         0.150   15.0  \n",
       "1                      0.0485         0.070    7.0  \n",
       "2                      0.1415         0.210    9.0  \n",
       "3                      0.1140         0.155   10.0  \n",
       "4                      0.0395         0.055    7.0  "
      ]
     },
     "execution_count": 9,
     "metadata": {},
     "output_type": "execute_result"
    }
   ],
   "source": [
    "# convert text labels to integer labels\n",
    "sex_label = LabelEncoder()\n",
    "data['Sex'] = sex_label.fit_transform(data['Sex'])\n",
    "data.head()"
   ]
  },
  {
   "cell_type": "code",
   "execution_count": 10,
   "metadata": {},
   "outputs": [
    {
     "data": {
      "text/html": [
       "<div>\n",
       "<style scoped>\n",
       "    .dataframe tbody tr th:only-of-type {\n",
       "        vertical-align: middle;\n",
       "    }\n",
       "\n",
       "    .dataframe tbody tr th {\n",
       "        vertical-align: top;\n",
       "    }\n",
       "\n",
       "    .dataframe thead th {\n",
       "        text-align: right;\n",
       "    }\n",
       "</style>\n",
       "<table border=\"1\" class=\"dataframe\">\n",
       "  <thead>\n",
       "    <tr style=\"text-align: right;\">\n",
       "      <th></th>\n",
       "      <th>Sex</th>\n",
       "      <th>Length</th>\n",
       "      <th>Diameter</th>\n",
       "      <th>Height</th>\n",
       "      <th>Whole weight</th>\n",
       "      <th>Shucked weight</th>\n",
       "      <th>Viscera weightShell weight</th>\n",
       "      <th>Shell weight</th>\n",
       "      <th>Rings</th>\n",
       "    </tr>\n",
       "  </thead>\n",
       "  <tbody>\n",
       "    <tr>\n",
       "      <th>0</th>\n",
       "      <td>2</td>\n",
       "      <td>0.455000</td>\n",
       "      <td>0.365000</td>\n",
       "      <td>0.095000</td>\n",
       "      <td>0.514000</td>\n",
       "      <td>0.224500</td>\n",
       "      <td>0.101000</td>\n",
       "      <td>0.150000</td>\n",
       "      <td>15.000000</td>\n",
       "    </tr>\n",
       "    <tr>\n",
       "      <th>1</th>\n",
       "      <td>2</td>\n",
       "      <td>0.350000</td>\n",
       "      <td>0.265000</td>\n",
       "      <td>0.090000</td>\n",
       "      <td>0.225500</td>\n",
       "      <td>0.099500</td>\n",
       "      <td>0.048500</td>\n",
       "      <td>0.070000</td>\n",
       "      <td>7.000000</td>\n",
       "    </tr>\n",
       "    <tr>\n",
       "      <th>2</th>\n",
       "      <td>0</td>\n",
       "      <td>0.530000</td>\n",
       "      <td>0.420000</td>\n",
       "      <td>0.135000</td>\n",
       "      <td>0.677000</td>\n",
       "      <td>0.256500</td>\n",
       "      <td>0.141500</td>\n",
       "      <td>0.210000</td>\n",
       "      <td>9.000000</td>\n",
       "    </tr>\n",
       "    <tr>\n",
       "      <th>3</th>\n",
       "      <td>2</td>\n",
       "      <td>0.440000</td>\n",
       "      <td>0.365000</td>\n",
       "      <td>0.125000</td>\n",
       "      <td>0.516000</td>\n",
       "      <td>0.215500</td>\n",
       "      <td>0.114000</td>\n",
       "      <td>0.155000</td>\n",
       "      <td>10.000000</td>\n",
       "    </tr>\n",
       "    <tr>\n",
       "      <th>4</th>\n",
       "      <td>1</td>\n",
       "      <td>0.330000</td>\n",
       "      <td>0.255000</td>\n",
       "      <td>0.080000</td>\n",
       "      <td>0.205000</td>\n",
       "      <td>0.089500</td>\n",
       "      <td>0.039500</td>\n",
       "      <td>0.055000</td>\n",
       "      <td>7.000000</td>\n",
       "    </tr>\n",
       "    <tr>\n",
       "      <th>...</th>\n",
       "      <td>...</td>\n",
       "      <td>...</td>\n",
       "      <td>...</td>\n",
       "      <td>...</td>\n",
       "      <td>...</td>\n",
       "      <td>...</td>\n",
       "      <td>...</td>\n",
       "      <td>...</td>\n",
       "      <td>...</td>\n",
       "    </tr>\n",
       "    <tr>\n",
       "      <th>4174</th>\n",
       "      <td>2</td>\n",
       "      <td>0.600000</td>\n",
       "      <td>0.475000</td>\n",
       "      <td>0.205000</td>\n",
       "      <td>1.176000</td>\n",
       "      <td>0.525500</td>\n",
       "      <td>0.287500</td>\n",
       "      <td>0.308000</td>\n",
       "      <td>9.000000</td>\n",
       "    </tr>\n",
       "    <tr>\n",
       "      <th>4175</th>\n",
       "      <td>0</td>\n",
       "      <td>0.625000</td>\n",
       "      <td>0.485000</td>\n",
       "      <td>0.150000</td>\n",
       "      <td>1.094500</td>\n",
       "      <td>0.531000</td>\n",
       "      <td>0.261000</td>\n",
       "      <td>0.296000</td>\n",
       "      <td>10.000000</td>\n",
       "    </tr>\n",
       "    <tr>\n",
       "      <th>4176</th>\n",
       "      <td>2</td>\n",
       "      <td>0.710000</td>\n",
       "      <td>0.555000</td>\n",
       "      <td>0.195000</td>\n",
       "      <td>1.948500</td>\n",
       "      <td>0.945500</td>\n",
       "      <td>0.376500</td>\n",
       "      <td>0.495000</td>\n",
       "      <td>12.000000</td>\n",
       "    </tr>\n",
       "    <tr>\n",
       "      <th>4177</th>\n",
       "      <td>3</td>\n",
       "      <td>0.523992</td>\n",
       "      <td>0.407881</td>\n",
       "      <td>0.139516</td>\n",
       "      <td>0.828742</td>\n",
       "      <td>0.359367</td>\n",
       "      <td>0.180594</td>\n",
       "      <td>0.238831</td>\n",
       "      <td>9.933684</td>\n",
       "    </tr>\n",
       "    <tr>\n",
       "      <th>4178</th>\n",
       "      <td>3</td>\n",
       "      <td>0.523992</td>\n",
       "      <td>0.407881</td>\n",
       "      <td>0.139516</td>\n",
       "      <td>0.828742</td>\n",
       "      <td>0.359367</td>\n",
       "      <td>0.180594</td>\n",
       "      <td>0.238831</td>\n",
       "      <td>9.933684</td>\n",
       "    </tr>\n",
       "  </tbody>\n",
       "</table>\n",
       "<p>4179 rows × 9 columns</p>\n",
       "</div>"
      ],
      "text/plain": [
       "      Sex    Length  Diameter    Height  Whole weight  Shucked weight  \\\n",
       "0       2  0.455000  0.365000  0.095000      0.514000        0.224500   \n",
       "1       2  0.350000  0.265000  0.090000      0.225500        0.099500   \n",
       "2       0  0.530000  0.420000  0.135000      0.677000        0.256500   \n",
       "3       2  0.440000  0.365000  0.125000      0.516000        0.215500   \n",
       "4       1  0.330000  0.255000  0.080000      0.205000        0.089500   \n",
       "...   ...       ...       ...       ...           ...             ...   \n",
       "4174    2  0.600000  0.475000  0.205000      1.176000        0.525500   \n",
       "4175    0  0.625000  0.485000  0.150000      1.094500        0.531000   \n",
       "4176    2  0.710000  0.555000  0.195000      1.948500        0.945500   \n",
       "4177    3  0.523992  0.407881  0.139516      0.828742        0.359367   \n",
       "4178    3  0.523992  0.407881  0.139516      0.828742        0.359367   \n",
       "\n",
       "      Viscera weightShell weight  Shell weight      Rings  \n",
       "0                       0.101000      0.150000  15.000000  \n",
       "1                       0.048500      0.070000   7.000000  \n",
       "2                       0.141500      0.210000   9.000000  \n",
       "3                       0.114000      0.155000  10.000000  \n",
       "4                       0.039500      0.055000   7.000000  \n",
       "...                          ...           ...        ...  \n",
       "4174                    0.287500      0.308000   9.000000  \n",
       "4175                    0.261000      0.296000  10.000000  \n",
       "4176                    0.376500      0.495000  12.000000  \n",
       "4177                    0.180594      0.238831   9.933684  \n",
       "4178                    0.180594      0.238831   9.933684  \n",
       "\n",
       "[4179 rows x 9 columns]"
      ]
     },
     "execution_count": 10,
     "metadata": {},
     "output_type": "execute_result"
    }
   ],
   "source": [
    "data.dropna()"
   ]
  },
  {
   "cell_type": "code",
   "execution_count": 11,
   "metadata": {},
   "outputs": [
    {
     "data": {
      "text/plain": [
       "Sex                           0\n",
       "Length                        0\n",
       "Diameter                      0\n",
       "Height                        0\n",
       "Whole weight                  0\n",
       "Shucked weight                0\n",
       "Viscera weightShell weight    0\n",
       "Shell weight                  0\n",
       "Rings                         0\n",
       "dtype: int64"
      ]
     },
     "execution_count": 11,
     "metadata": {},
     "output_type": "execute_result"
    }
   ],
   "source": [
    "data.isna().sum()"
   ]
  },
  {
   "cell_type": "code",
   "execution_count": 13,
   "metadata": {},
   "outputs": [
    {
     "name": "stdout",
     "output_type": "stream",
     "text": [
      "   Length  Diameter  Height  Whole weight  Shucked weight  \\\n",
      "0   0.455     0.365   0.095        0.5140          0.2245   \n",
      "1   0.350     0.265   0.090        0.2255          0.0995   \n",
      "2   0.530     0.420   0.135        0.6770          0.2565   \n",
      "3   0.440     0.365   0.125        0.5160          0.2155   \n",
      "4   0.330     0.255   0.080        0.2050          0.0895   \n",
      "\n",
      "   Viscera weightShell weight  Shell weight  Rings  \n",
      "0                      0.1010         0.150   15.0  \n",
      "1                      0.0485         0.070    7.0  \n",
      "2                      0.1415         0.210    9.0  \n",
      "3                      0.1140         0.155   10.0  \n",
      "4                      0.0395         0.055    7.0  \n",
      "   Sex\n",
      "0    2\n",
      "1    2\n",
      "2    0\n",
      "3    2\n",
      "4    1\n"
     ]
    }
   ],
   "source": [
    "# Attribute and target split\n",
    "X = data.drop(['Sex'], axis=1)\n",
    "y = data[['Sex']]\n",
    "print(X.head())\n",
    "print(y.head())"
   ]
  },
  {
   "cell_type": "code",
   "execution_count": 14,
   "metadata": {},
   "outputs": [],
   "source": [
    "\n",
    "from sklearn import linear_model\n",
    "\n",
    "X_train, X_test, y_train, y_test = train_test_split(X, y, test_size=0.2,\n",
    "                                                   random_state=25)\n",
    "\n",
    "from sklearn.preprocessing import StandardScaler\n",
    "\n",
    "scaler = StandardScaler()\n",
    "scaler.fit(X_train)\n",
    "X_scaled = scaler.transform(X)\n",
    "X_train_scaled = scaler.transform(X_train)\n",
    "X_test_scaled = scaler.transform(X_test)"
   ]
  },
  {
   "cell_type": "code",
   "execution_count": 15,
   "metadata": {},
   "outputs": [
    {
     "name": "stdout",
     "output_type": "stream",
     "text": [
      "[[12.87702288 12.64802421  6.31573322  0.86103151 -7.32424554  6.35151044\n",
      "   0.          0.84876228]\n",
      " [10.91730206  4.18724429 -1.2661579  -9.01901028  2.02170133 -8.96978386\n",
      "   0.63806247 -0.54752807]\n",
      " [-0.61352326  0.35819707  0.7840796   0.70768407  4.48686866  0.59290637\n",
      "  -2.84090689  0.        ]\n",
      " [ 0.          0.          0.          0.          0.          0.\n",
      "   0.         -0.67619194]]\n",
      "[-15.95193271   2.76879451  -4.38008188  -9.4098277 ]\n"
     ]
    },
    {
     "data": {
      "text/plain": [
       "Text(0, 0.5, 'Predicted')"
      ]
     },
     "execution_count": 15,
     "metadata": {},
     "output_type": "execute_result"
    },
    {
     "data": {
      "image/png": "[encoded data removed]",
      "text/plain": [
       "<Figure size 432x288 with 1 Axes>"
      ]
     },
     "metadata": {
      "needs_background": "light"
     },
     "output_type": "display_data"
    }
   ],
   "source": [
    "clf = linear_model.SGDClassifier(loss='hinge', penalty='elasticnet')\n",
    "clf.fit(X_train, y_train)\n",
    "print(clf.coef_)\n",
    "print(clf.intercept_)\n",
    "y_predict = clf.predict(X_test)\n",
    "\n",
    "fig, ax = plt.subplots()\n",
    "ax.scatter(y_test, y_predict)\n",
    "ax.plot([y.min(), y.max()], [y.min(), y.max()], 'r--', lw=5)\n",
    "ax.set_xlabel('Observed')\n",
    "ax.set_ylabel('Predicted')"
   ]
  },
  {
   "cell_type": "code",
   "execution_count": 16,
   "metadata": {},
   "outputs": [],
   "source": [
    "#import the knn model\n",
    "from sklearn.neighbors import KNeighborsClassifier\n",
    "knn = KNeighborsClassifier()"
   ]
  },
  {
   "cell_type": "code",
   "execution_count": 17,
   "metadata": {},
   "outputs": [
    {
     "data": {
      "text/plain": [
       "0.527877482651352"
      ]
     },
     "execution_count": 17,
     "metadata": {},
     "output_type": "execute_result"
    }
   ],
   "source": [
    "#see the cross_validated score for cv=3\n",
    "from sklearn.model_selection import cross_val_score\n",
    "cross_val_score(knn,X,y,cv=3).mean()"
   ]
  },
  {
   "cell_type": "code",
   "execution_count": null,
   "metadata": {},
   "outputs": [],
   "source": [
    "#KNN showing 52.78% is the resemblance of points in the training set."
   ]
  },
  {
   "cell_type": "code",
   "execution_count": 18,
   "metadata": {},
   "outputs": [],
   "source": [
    "#for no.of neighbors from 1 - 10, graph the k-fold scores\n",
    "scores = []\n",
    "for i in range(1,11,1):\n",
    "    knn = KNeighborsClassifier(n_neighbors=i, weights='uniform')\n",
    "    scores.append(cross_val_score(knn,X,y,cv=3).mean())"
   ]
  },
  {
   "cell_type": "code",
   "execution_count": 19,
   "metadata": {},
   "outputs": [
    {
     "data": {
      "image/png": "[encoded data removed]",
      "text/plain": [
       "<Figure size 432x288 with 1 Axes>"
      ]
     },
     "metadata": {
      "needs_background": "light"
     },
     "output_type": "display_data"
    }
   ],
   "source": [
    "import matplotlib.pyplot as plt\n",
    "plt.plot(range(1,11,1),scores)\n",
    "plt.xlabel('no. of neighbors')\n",
    "plt.ylabel('k-fold test scores')\n",
    "plt.show()\n"
   ]
  },
  {
   "cell_type": "markdown",
   "metadata": {},
   "source": [
    "5-NN is the best model"
   ]
  },
  {
   "cell_type": "code",
   "execution_count": 20,
   "metadata": {},
   "outputs": [],
   "source": [
    "from sklearn.linear_model import LogisticRegression\n",
    "model = LogisticRegression(multi_class='ovr')"
   ]
  },
  {
   "cell_type": "code",
   "execution_count": 21,
   "metadata": {},
   "outputs": [],
   "source": [
    "#split to train and test for cross-validation\n",
    "from sklearn.model_selection import train_test_split\n",
    "X_train,X_test,y_train,y_test = train_test_split(X,y,test_size=0.3,random_state=0)"
   ]
  },
  {
   "cell_type": "code",
   "execution_count": 22,
   "metadata": {},
   "outputs": [
    {
     "data": {
      "text/plain": [
       "0.5558749931254469"
      ]
     },
     "execution_count": 22,
     "metadata": {},
     "output_type": "execute_result"
    }
   ],
   "source": [
    "#Do k-fold cross validation using Logistic Regression\n",
    "from sklearn.linear_model import LogisticRegression\n",
    "from sklearn.model_selection import cross_val_score\n",
    "\n",
    "cross_val_score(LogisticRegression(),X_scaled,y,cv=4).mean()"
   ]
  },
  {
   "cell_type": "code",
   "execution_count": 23,
   "metadata": {},
   "outputs": [],
   "source": [
    "#scale the features using training set\n",
    "from sklearn.preprocessing import StandardScaler\n",
    "sc = StandardScaler()\n",
    "X_train_scaled = pd.DataFrame(sc.fit_transform(X_train),columns=X.columns)\n",
    "X_test_scaled = pd.DataFrame(sc.transform(X_test),columns=X.columns)"
   ]
  },
  {
   "cell_type": "code",
   "execution_count": 24,
   "metadata": {},
   "outputs": [],
   "source": [
    "#import the model\n",
    "from sklearn.linear_model import LogisticRegression\n",
    "#We use saga solver for large dataset \n",
    "#and class_weight to deal with the imbalance\n",
    "model = LogisticRegression(max_iter=500,tol=0.001,solver='saga', \n",
    "                           class_weight={False:1, True:9})"
   ]
  },
  {
   "cell_type": "code",
   "execution_count": 25,
   "metadata": {},
   "outputs": [
    {
     "data": {
      "text/plain": [
       "LogisticRegression(class_weight={False: 1, True: 9}, max_iter=500,\n",
       "                   solver='saga', tol=0.001)"
      ]
     },
     "execution_count": 25,
     "metadata": {},
     "output_type": "execute_result"
    }
   ],
   "source": [
    "#Training the model \n",
    "model.fit(X_train_scaled,y_train)"
   ]
  },
  {
   "cell_type": "code",
   "execution_count": 26,
   "metadata": {},
   "outputs": [
    {
     "data": {
      "text/plain": [
       "0.45454545454545453"
      ]
     },
     "execution_count": 26,
     "metadata": {},
     "output_type": "execute_result"
    }
   ],
   "source": [
    "#Validating the model\n",
    "\n",
    "model.score(X_test_scaled,y_test)"
   ]
  },
  {
   "cell_type": "code",
   "execution_count": 27,
   "metadata": {},
   "outputs": [],
   "source": [
    "from sklearn.metrics import confusion_matrix, classification_report"
   ]
  },
  {
   "cell_type": "code",
   "execution_count": 28,
   "metadata": {},
   "outputs": [
    {
     "name": "stdout",
     "output_type": "stream",
     "text": [
      "              precision    recall  f1-score   support\n",
      "\n",
      "           0       0.55      0.21      0.30       390\n",
      "           1       0.45      0.97      0.61       434\n",
      "           2       0.42      0.17      0.24       430\n",
      "\n",
      "    accuracy                           0.45      1254\n",
      "   macro avg       0.47      0.45      0.38      1254\n",
      "weighted avg       0.47      0.45      0.39      1254\n",
      "\n"
     ]
    },
    {
     "data": {
      "text/plain": [
       "array([[ 80, 222,  88],\n",
       "       [  6, 419,   9],\n",
       "       [ 60, 299,  71]], dtype=int64)"
      ]
     },
     "execution_count": 28,
     "metadata": {},
     "output_type": "execute_result"
    }
   ],
   "source": [
    "y_pred = model.predict(X_test_scaled)\n",
    "print(classification_report(y_test,y_pred))\n",
    "confusion_matrix(y_test,y_pred)"
   ]
  },
  {
   "cell_type": "code",
   "execution_count": 1,
   "metadata": {},
   "outputs": [],
   "source": [
    "#https://scikit-learn.org/stable/modules/generated/sklearn.svm.SVC.html\n",
    "from sklearn.svm import SVC"
   ]
  },
  {
   "cell_type": "code",
   "execution_count": 2,
   "metadata": {},
   "outputs": [],
   "source": [
    "from sklearn.model_selection import GridSearchCV"
   ]
  },
  {
   "cell_type": "code",
   "execution_count": null,
   "metadata": {},
   "outputs": [],
   "source": [
    "models.append(('SVM', SVC()))"
   ]
  },
  {
   "cell_type": "code",
   "execution_count": null,
   "metadata": {},
   "outputs": [],
   "source": [
    "model.best_params_"
   ]
  },
  {
   "cell_type": "code",
   "execution_count": null,
   "metadata": {},
   "outputs": [],
   "source": [
    "model.best_score_"
   ]
  },
  {
   "cell_type": "code",
   "execution_count": null,
   "metadata": {},
   "outputs": [],
   "source": [
    "svm =model.best_estimator_"
   ]
  },
  {
   "cell_type": "code",
   "execution_count": null,
   "metadata": {},
   "outputs": [],
   "source": [
    "svm.fit(X_train,y_train)"
   ]
  },
  {
   "cell_type": "code",
   "execution_count": 31,
   "metadata": {},
   "outputs": [
    {
     "data": {
      "text/plain": [
       "GridSearchCV(cv=4, estimator=RandomForestClassifier(random_state=0),\n",
       "             param_grid={'max_depth': [12, 14, 16],\n",
       "                         'n_estimators': [80, 90, 100]})"
      ]
     },
     "execution_count": 31,
     "metadata": {},
     "output_type": "execute_result"
    }
   ],
   "source": [
    "#including other params like max_depth, we will apply gridsearch to fine the best settings for the RandomForest\n",
    "params = {\n",
    "            'n_estimators': [80,90,100],\n",
    "            'max_depth': [12,14,16]\n",
    "        }\n",
    "model = GridSearchCV(RandomForestClassifier(random_state=0), params,cv=4)\n",
    "model.fit(X,y)"
   ]
  },
  {
   "cell_type": "code",
   "execution_count": 32,
   "metadata": {},
   "outputs": [
    {
     "data": {
      "text/plain": [
       "{'max_depth': 16, 'n_estimators': 100}"
      ]
     },
     "execution_count": 32,
     "metadata": {},
     "output_type": "execute_result"
    }
   ],
   "source": [
    "model.best_params_"
   ]
  },
  {
   "cell_type": "code",
   "execution_count": 33,
   "metadata": {},
   "outputs": [
    {
     "data": {
      "text/plain": [
       "0.5496519184586335"
      ]
     },
     "execution_count": 33,
     "metadata": {},
     "output_type": "execute_result"
    }
   ],
   "source": [
    "model.best_score_"
   ]
  },
  {
   "cell_type": "code",
   "execution_count": 34,
   "metadata": {},
   "outputs": [],
   "source": [
    "best_model = model.best_estimator_"
   ]
  },
  {
   "cell_type": "code",
   "execution_count": 35,
   "metadata": {},
   "outputs": [],
   "source": [
    "X_train,X_test,y_train,y_test = train_test_split(X,y,random_state=0)"
   ]
  },
  {
   "cell_type": "code",
   "execution_count": 36,
   "metadata": {},
   "outputs": [
    {
     "data": {
      "text/plain": [
       "RandomForestClassifier(max_depth=16, random_state=0)"
      ]
     },
     "execution_count": 36,
     "metadata": {},
     "output_type": "execute_result"
    }
   ],
   "source": [
    "best_model.fit(X_train,y_train)"
   ]
  },
  {
   "cell_type": "code",
   "execution_count": 37,
   "metadata": {},
   "outputs": [],
   "source": [
    "y_pred = best_model.predict(X_test)"
   ]
  },
  {
   "cell_type": "code",
   "execution_count": 38,
   "metadata": {},
   "outputs": [
    {
     "name": "stdout",
     "output_type": "stream",
     "text": [
      "              precision    recall  f1-score   support\n",
      "\n",
      "           0       0.42      0.38      0.40       324\n",
      "           1       0.71      0.74      0.73       368\n",
      "           2       0.45      0.48      0.46       353\n",
      "\n",
      "    accuracy                           0.54      1045\n",
      "   macro avg       0.53      0.53      0.53      1045\n",
      "weighted avg       0.53      0.54      0.54      1045\n",
      "\n"
     ]
    }
   ],
   "source": [
    "print(classification_report(y_test,y_pred))"
   ]
  },
  {
   "cell_type": "code",
   "execution_count": 40,
   "metadata": {},
   "outputs": [],
   "source": [
    "from sklearn.ensemble import RandomForestClassifier\n",
    "from sklearn.model_selection import GridSearchCV\n",
    "from sklearn.model_selection import cross_val_score\n",
    "import matplotlib.pyplot as plt\n"
   ]
  },
  {
   "cell_type": "code",
   "execution_count": 41,
   "metadata": {},
   "outputs": [],
   "source": [
    "#Graph k-fold score vs no. of estimators in Random Forest\n",
    "scores = []\n",
    "for i in range(10,101,10):\n",
    "    scores.append(cross_val_score(RandomForestClassifier(n_estimators=i,random_state=0),\n",
    "                                  X,y,cv=4).mean())"
   ]
  },
  {
   "cell_type": "code",
   "execution_count": 42,
   "metadata": {},
   "outputs": [
    {
     "data": {
      "image/png": "[encoded data removed]",
      "text/plain": [
       "<Figure size 432x288 with 1 Axes>"
      ]
     },
     "metadata": {
      "needs_background": "light"
     },
     "output_type": "display_data"
    }
   ],
   "source": [
    "plt.plot(range(10,101,10),scores)\n",
    "plt.xlabel('No. of DTs in RandomForest')\n",
    "plt.ylabel('K-fold scores')\n",
    "plt.show()"
   ]
  },
  {
   "cell_type": "code",
   "execution_count": 42,
   "metadata": {},
   "outputs": [
    {
     "data": {
      "text/plain": [
       "GridSearchCV(cv=4, estimator=AdaBoostClassifier(random_state=0),\n",
       "             param_grid={'base_estimator': [DecisionTreeClassifier(max_depth=9,\n",
       "                                                                   random_state=0),\n",
       "                                            DecisionTreeClassifier(max_depth=10,\n",
       "                                                                   random_state=0),\n",
       "                                            DecisionTreeClassifier(max_depth=11,\n",
       "                                                                   random_state=0)],\n",
       "                         'n_estimators': [70, 80, 90, 100]})"
      ]
     },
     "execution_count": 42,
     "metadata": {},
     "output_type": "execute_result"
    }
   ],
   "source": [
    "from sklearn.tree import DecisionTreeClassifier\n",
    "#including other params like max_depth, we will apply gridsearch to fine the best settings \n",
    "params = {\n",
    "            'n_estimators': [70,80,90,100],\n",
    "            'base_estimator': [DecisionTreeClassifier(max_depth=9,random_state=0),\n",
    "                               DecisionTreeClassifier(max_depth=10,random_state=0),\n",
    "                               DecisionTreeClassifier(max_depth=11,random_state=0)]\n",
    "        }\n",
    "model = GridSearchCV(AdaBoostClassifier(random_state=0), params,cv=4)\n",
    "model.fit(X,y)"
   ]
  },
  {
   "cell_type": "code",
   "execution_count": 43,
   "metadata": {},
   "outputs": [
    {
     "data": {
      "text/plain": [
       "{'base_estimator': DecisionTreeClassifier(max_depth=9, random_state=0),\n",
       " 'n_estimators': 70}"
      ]
     },
     "execution_count": 43,
     "metadata": {},
     "output_type": "execute_result"
    }
   ],
   "source": [
    "model.best_params_"
   ]
  },
  {
   "cell_type": "code",
   "execution_count": 44,
   "metadata": {},
   "outputs": [
    {
     "data": {
      "text/plain": [
       "0.550131533117014"
      ]
     },
     "execution_count": 44,
     "metadata": {},
     "output_type": "execute_result"
    }
   ],
   "source": [
    "model.best_score_"
   ]
  },
  {
   "cell_type": "markdown",
   "metadata": {},
   "source": [
    "From the above experiments, Adaboost is slightly better for the current dataset with 4-fold score of 55.03% accuracy than RandomForest which has 54.96% 4-fold accuracy. The hyper-parameter tuning using Gridsearch shows that both RandomForest and Adaboost using Decision needs similar number of DTs in their ensemble to give the best score. "
   ]
  },
  {
   "cell_type": "markdown",
   "metadata": {},
   "source": [
    "#PYSPARK"
   ]
  },
  {
   "cell_type": "code",
   "execution_count": 1,
   "metadata": {},
   "outputs": [],
   "source": [
    "#set environment\n",
    "import os\n",
    "import sys\n",
    " \n",
    "os.environ[\"SPARK_HOME\"] = \"/usr/hdp/current/spark2-client\"\n",
    "os.environ[\"PYLIB\"] = os.environ[\"SPARK_HOME\"] + \"/python/lib\"\n",
    "# In below two lines, use /usr/bin/python2.7 if you want to use Python 2\n",
    "os.environ[\"PYSPARK_PYTHON\"] = \"/usr/local/anaconda/bin/python\" \n",
    "os.environ[\"PYSPARK_DRIVER_PYTHON\"] = \"/usr/local/anaconda/bin/python\"\n",
    "sys.path.insert(0, os.environ[\"PYLIB\"] +\"/py4j-0.10.4-src.zip\")\n",
    "sys.path.insert(0, os.environ[\"PYLIB\"] +\"/pyspark.zip\")"
   ]
  },
  {
   "cell_type": "code",
   "execution_count": 2,
   "metadata": {},
   "outputs": [],
   "source": [
    "#import Sparksession driver\n",
    "from pyspark.sql import SparkSession\n",
    "spark = SparkSession \\\n",
    "    .builder \\\n",
    "    .appName(\"Abalone classification Arun kumar\") \\\n",
    "    .getOrCreate()"
   ]
  },
  {
   "cell_type": "code",
   "execution_count": 3,
   "metadata": {},
   "outputs": [],
   "source": [
    "data = spark.read.csv('abalone.csv',header = True,inferSchema=True) "
   ]
  },
  {
   "cell_type": "code",
   "execution_count": 4,
   "metadata": {},
   "outputs": [
    {
     "name": "stdout",
     "output_type": "stream",
     "text": [
      "no. of cells in column Sex with null values: 2\n",
      "no. of cells in column Length with null values: 2\n",
      "no. of cells in column Diameter with null values: 2\n",
      "no. of cells in column Height with null values: 2\n",
      "no. of cells in column Whole weight with null values: 2\n",
      "no. of cells in column Shucked weight with null values: 2\n",
      "no. of cells in column Viscera weightShell weight with null values: 2\n",
      "no. of cells in column Shell weight with null values: 2\n",
      "no. of cells in column Rings with null values: 2\n"
     ]
    }
   ],
   "source": [
    "#Check for missing values\n",
    "for col in data.columns:\n",
    "    print(\"no. of cells in column\", col, \"with null values:\", data.filter(data[col].isNull()).count())"
   ]
  },
  {
   "cell_type": "code",
   "execution_count": 5,
   "metadata": {},
   "outputs": [],
   "source": [
    "from pyspark.sql.functions import avg\n",
    "def mean_of_pyspark_columns(data, numeric_cols, verbose=False):\n",
    "    col_with_mean={}\n",
    "    for col in numeric_cols:\n",
    "        mean_value = data.select(avg(data[col]))\n",
    "        avg_col = mean_value.columns[0]\n",
    "        res = mean_value.rdd.map(lambda row : row[avg_col]).collect()\n",
    "        \n",
    "        if (verbose==True): print(mean_value.columns[0], \"\\t\", res[0])\n",
    "        col_with_mean[col]=res[0]    \n",
    "    return col_with_mean"
   ]
  },
  {
   "cell_type": "code",
   "execution_count": 41,
   "metadata": {},
   "outputs": [
    {
     "data": {
      "text/plain": [
       "{'Viscera weightShell weight': 0.18059360785252604,\n",
       " 'Length': 0.5239920995930099,\n",
       " 'Diameter': 0.407881254488869,\n",
       " 'Height': 0.1395163993296614,\n",
       " 'Whole weight': 0.82874215944458,\n",
       " 'Shucked weight': 0.35936748862820106,\n",
       " 'Shell weight': 0.23883085946851795,\n",
       " 'Rings': 9.933684462532918}"
      ]
     },
     "execution_count": 41,
     "metadata": {},
     "output_type": "execute_result"
    }
   ],
   "source": [
    "mean_of_pyspark_columns(data,['Viscera weightShell weight','Length','Diameter','Height','Whole weight','Shucked weight','Shell weight','Rings'])"
   ]
  },
  {
   "cell_type": "code",
   "execution_count": 6,
   "metadata": {},
   "outputs": [],
   "source": [
    "data = data.fillna(mean_of_pyspark_columns(data,['Viscera weightShell weight','Length','Diameter','Height','Whole weight','Shucked weight','Shell weight','Rings']))"
   ]
  },
  {
   "cell_type": "code",
   "execution_count": 7,
   "metadata": {},
   "outputs": [
    {
     "name": "stdout",
     "output_type": "stream",
     "text": [
      "no. of cells in column Sex with null values: 2\n",
      "no. of cells in column Length with null values: 0\n",
      "no. of cells in column Diameter with null values: 0\n",
      "no. of cells in column Height with null values: 0\n",
      "no. of cells in column Whole weight with null values: 0\n",
      "no. of cells in column Shucked weight with null values: 0\n",
      "no. of cells in column Viscera weightShell weight with null values: 0\n",
      "no. of cells in column Shell weight with null values: 0\n",
      "no. of cells in column Rings with null values: 0\n"
     ]
    }
   ],
   "source": [
    "#Check for missing values\n",
    "for col in data.columns:\n",
    "    print(\"no. of cells in column\", col, \"with null values:\", data.filter(data[col].isNull()).count())"
   ]
  },
  {
   "cell_type": "code",
   "execution_count": 8,
   "metadata": {},
   "outputs": [
    {
     "name": "stdout",
     "output_type": "stream",
     "text": [
      "+---+------+--------+------+------------+--------------+--------------------------+------------+-----+\n",
      "|Sex|Length|Diameter|Height|Whole weight|Shucked weight|Viscera weightShell weight|Shell weight|Rings|\n",
      "+---+------+--------+------+------------+--------------+--------------------------+------------+-----+\n",
      "|  M| 0.455|   0.365| 0.095|       0.514|        0.2245|                     0.101|        0.15|   15|\n",
      "|  M|  0.35|   0.265|  0.09|      0.2255|        0.0995|                    0.0485|        0.07|    7|\n",
      "|  F|  0.53|    0.42| 0.135|       0.677|        0.2565|                    0.1415|        0.21|    9|\n",
      "|  M|  0.44|   0.365| 0.125|       0.516|        0.2155|                     0.114|       0.155|   10|\n",
      "|  I|  0.33|   0.255|  0.08|       0.205|        0.0895|                    0.0395|       0.055|    7|\n",
      "|  I| 0.425|     0.3| 0.095|      0.3515|         0.141|                    0.0775|        0.12|    8|\n",
      "|  F|  0.53|   0.415|  0.15|      0.7775|         0.237|                    0.1415|        0.33|   20|\n",
      "|  F| 0.545|   0.425| 0.125|       0.768|         0.294|                    0.1495|        0.26|   16|\n",
      "|  M| 0.475|    0.37| 0.125|      0.5095|        0.2165|                    0.1125|       0.165|    9|\n",
      "|  F|  0.55|    0.44|  0.15|      0.8945|        0.3145|                     0.151|        0.32|   19|\n",
      "|  F| 0.525|    0.38|  0.14|      0.6065|         0.194|                    0.1475|        0.21|   14|\n",
      "|  M|  0.43|    0.35|  0.11|       0.406|        0.1675|                     0.081|       0.135|   10|\n",
      "|  M|  0.49|    0.38| 0.135|      0.5415|        0.2175|                     0.095|        0.19|   11|\n",
      "|  F| 0.535|   0.405| 0.145|      0.6845|        0.2725|                     0.171|       0.205|   10|\n",
      "|  F|  0.47|   0.355|   0.1|      0.4755|        0.1675|                    0.0805|       0.185|   10|\n",
      "|  M|   0.5|     0.4|  0.13|      0.6645|         0.258|                     0.133|        0.24|   12|\n",
      "|  I| 0.355|    0.28| 0.085|      0.2905|         0.095|                    0.0395|       0.115|    7|\n",
      "|  F|  0.44|    0.34|   0.1|       0.451|         0.188|                     0.087|        0.13|   10|\n",
      "|  M| 0.365|   0.295|  0.08|      0.2555|         0.097|                     0.043|         0.1|    7|\n",
      "|  M|  0.45|    0.32|   0.1|       0.381|        0.1705|                     0.075|       0.115|    9|\n",
      "+---+------+--------+------+------------+--------------+--------------------------+------------+-----+\n",
      "only showing top 20 rows\n",
      "\n"
     ]
    }
   ],
   "source": [
    "data.show()"
   ]
  },
  {
   "cell_type": "code",
   "execution_count": 9,
   "metadata": {},
   "outputs": [],
   "source": [
    "def mode_of_pyspark_columns(data, cat_col_list, verbose=False):\n",
    "    col_with_mode={}\n",
    "    for col in cat_col_list:\n",
    "        #Filter null\n",
    "        data = data.filter(data[col].isNull()==False)\n",
    "        #Find unique_values_with_count\n",
    "        unique_classes = data.select(col).distinct().rdd.map(lambda x: x[0]).collect()\n",
    "        unique_values_with_count=[]\n",
    "        for uc in unique_classes:\n",
    "             unique_values_with_count.append([uc, data.filter(data[col]==uc).count()])\n",
    "        #sort unique values w.r.t their count values\n",
    "        sorted_unique_values_with_count= sorted(unique_values_with_count, key = lambda x: x[1], reverse =True)\n",
    "        \n",
    "        if (verbose==True): print(col, sorted_unique_values_with_count, \" and mode is \", sorted_unique_values_with_count[0][0])\n",
    "        col_with_mode[col] = sorted_unique_values_with_count[0][0]\n",
    "    return col_with_mode"
   ]
  },
  {
   "cell_type": "code",
   "execution_count": 10,
   "metadata": {},
   "outputs": [
    {
     "name": "stdout",
     "output_type": "stream",
     "text": [
      "Sex [['M', 1528], ['I', 1342], ['F', 1307]]  and mode is  M\n"
     ]
    },
    {
     "data": {
      "text/plain": [
       "{'Sex': 'M'}"
      ]
     },
     "execution_count": 10,
     "metadata": {},
     "output_type": "execute_result"
    }
   ],
   "source": [
    "mode_of_pyspark_columns(data,[\"Sex\"],True)"
   ]
  },
  {
   "cell_type": "code",
   "execution_count": 11,
   "metadata": {},
   "outputs": [
    {
     "name": "stdout",
     "output_type": "stream",
     "text": [
      "+---+------+--------+------+------------+--------------+--------------------------+------------+-----+\n",
      "|Sex|Length|Diameter|Height|Whole weight|Shucked weight|Viscera weightShell weight|Shell weight|Rings|\n",
      "+---+------+--------+------+------------+--------------+--------------------------+------------+-----+\n",
      "|  M| 0.455|   0.365| 0.095|       0.514|        0.2245|                     0.101|        0.15|   15|\n",
      "|  M|  0.35|   0.265|  0.09|      0.2255|        0.0995|                    0.0485|        0.07|    7|\n",
      "|  F|  0.53|    0.42| 0.135|       0.677|        0.2565|                    0.1415|        0.21|    9|\n",
      "|  M|  0.44|   0.365| 0.125|       0.516|        0.2155|                     0.114|       0.155|   10|\n",
      "|  I|  0.33|   0.255|  0.08|       0.205|        0.0895|                    0.0395|       0.055|    7|\n",
      "|  I| 0.425|     0.3| 0.095|      0.3515|         0.141|                    0.0775|        0.12|    8|\n",
      "|  F|  0.53|   0.415|  0.15|      0.7775|         0.237|                    0.1415|        0.33|   20|\n",
      "|  F| 0.545|   0.425| 0.125|       0.768|         0.294|                    0.1495|        0.26|   16|\n",
      "|  M| 0.475|    0.37| 0.125|      0.5095|        0.2165|                    0.1125|       0.165|    9|\n",
      "|  F|  0.55|    0.44|  0.15|      0.8945|        0.3145|                     0.151|        0.32|   19|\n",
      "|  F| 0.525|    0.38|  0.14|      0.6065|         0.194|                    0.1475|        0.21|   14|\n",
      "|  M|  0.43|    0.35|  0.11|       0.406|        0.1675|                     0.081|       0.135|   10|\n",
      "|  M|  0.49|    0.38| 0.135|      0.5415|        0.2175|                     0.095|        0.19|   11|\n",
      "|  F| 0.535|   0.405| 0.145|      0.6845|        0.2725|                     0.171|       0.205|   10|\n",
      "|  F|  0.47|   0.355|   0.1|      0.4755|        0.1675|                    0.0805|       0.185|   10|\n",
      "|  M|   0.5|     0.4|  0.13|      0.6645|         0.258|                     0.133|        0.24|   12|\n",
      "|  I| 0.355|    0.28| 0.085|      0.2905|         0.095|                    0.0395|       0.115|    7|\n",
      "|  F|  0.44|    0.34|   0.1|       0.451|         0.188|                     0.087|        0.13|   10|\n",
      "|  M| 0.365|   0.295|  0.08|      0.2555|         0.097|                     0.043|         0.1|    7|\n",
      "|  M|  0.45|    0.32|   0.1|       0.381|        0.1705|                     0.075|       0.115|    9|\n",
      "+---+------+--------+------+------------+--------------+--------------------------+------------+-----+\n",
      "only showing top 20 rows\n",
      "\n"
     ]
    }
   ],
   "source": [
    "data.fillna(mode_of_pyspark_columns(data,[\"Sex\"])).show()"
   ]
  },
  {
   "cell_type": "code",
   "execution_count": 12,
   "metadata": {},
   "outputs": [
    {
     "name": "stdout",
     "output_type": "stream",
     "text": [
      "no. of cells in column Sex with null values: 2\n",
      "no. of cells in column Length with null values: 0\n",
      "no. of cells in column Diameter with null values: 0\n",
      "no. of cells in column Height with null values: 0\n",
      "no. of cells in column Whole weight with null values: 0\n",
      "no. of cells in column Shucked weight with null values: 0\n",
      "no. of cells in column Viscera weightShell weight with null values: 0\n",
      "no. of cells in column Shell weight with null values: 0\n",
      "no. of cells in column Rings with null values: 0\n"
     ]
    }
   ],
   "source": [
    "#Check for missing values\n",
    "for col in data.columns:\n",
    "    print(\"no. of cells in column\", col, \"with null values:\", data.filter(data[col].isNull()).count())"
   ]
  },
  {
   "cell_type": "code",
   "execution_count": 13,
   "metadata": {},
   "outputs": [],
   "source": [
    "data = data.dropna(subset=(\"Sex\"))"
   ]
  },
  {
   "cell_type": "code",
   "execution_count": 14,
   "metadata": {},
   "outputs": [
    {
     "name": "stdout",
     "output_type": "stream",
     "text": [
      "no. of cells in column Sex with null values: 0\n",
      "no. of cells in column Length with null values: 0\n",
      "no. of cells in column Diameter with null values: 0\n",
      "no. of cells in column Height with null values: 0\n",
      "no. of cells in column Whole weight with null values: 0\n",
      "no. of cells in column Shucked weight with null values: 0\n",
      "no. of cells in column Viscera weightShell weight with null values: 0\n",
      "no. of cells in column Shell weight with null values: 0\n",
      "no. of cells in column Rings with null values: 0\n"
     ]
    }
   ],
   "source": [
    "#Check for missing values\n",
    "for col in data.columns:\n",
    "    print(\"no. of cells in column\", col, \"with null values:\", data.filter(data[col].isNull()).count())"
   ]
  },
  {
   "cell_type": "code",
   "execution_count": 25,
   "metadata": {},
   "outputs": [
    {
     "name": "stdout",
     "output_type": "stream",
     "text": [
      "+---+------+--------+------+------------+--------------+--------------------------+------------+-----+-----------+--------------+----------------+--------------+--------------------+----------------------+----------------------------------+--------------------+-------------+\n",
      "|Sex|Length|Diameter|Height|Whole weight|Shucked weight|Viscera weightShell weight|Shell weight|Rings|Sex_encoded|Length_encoded|Diameter_encoded|Height_encoded|Whole weight_encoded|Shucked weight_encoded|Viscera weightShell weight_encoded|Shell weight_encoded|Rings_encoded|\n",
      "+---+------+--------+------+------------+--------------+--------------------------+------------+-----+-----------+--------------+----------------+--------------+--------------------+----------------------+----------------------------------+--------------------+-------------+\n",
      "|  M| 0.455|   0.365| 0.095|       0.514|        0.2245|                     0.101|        0.15|   15|        0.0|          42.0|            33.0|          20.0|                91.0|                 598.0|                             577.0|                35.0|         10.0|\n",
      "|  M|  0.35|   0.265|  0.09|      0.2255|        0.0995|                    0.0485|        0.07|    7|        0.0|          54.0|            47.0|          16.0|                68.0|                 418.0|                             361.0|                12.0|          4.0|\n",
      "|  F|  0.53|    0.42| 0.135|       0.677|        0.2565|                    0.1415|        0.21|    9|        2.0|          12.0|            11.0|           7.0|               964.0|                 314.0|                              22.0|                28.0|          0.0|\n",
      "|  M|  0.44|   0.365| 0.125|       0.516|        0.2155|                     0.114|       0.155|   10|        0.0|          32.0|            33.0|           5.0|               360.0|                 344.0|                             169.0|                24.0|          1.0|\n",
      "|  I|  0.33|   0.255|  0.08|       0.205|        0.0895|                    0.0395|       0.055|    7|        1.0|          69.0|            59.0|          22.0|               362.0|                 663.0|                             113.0|                56.0|          4.0|\n",
      "|  I| 0.425|     0.3| 0.095|      0.3515|         0.141|                    0.0775|        0.12|    8|        1.0|          48.0|            38.0|          20.0|               376.0|                 517.0|                             476.0|                14.0|          2.0|\n",
      "|  F|  0.53|   0.415|  0.15|      0.7775|         0.237|                    0.1415|        0.33|   20|        2.0|          12.0|            30.0|           0.0|               389.0|                  48.0|                              22.0|                41.0|         16.0|\n",
      "|  F| 0.545|   0.425| 0.125|       0.768|         0.294|                    0.1495|        0.26|   16|        2.0|          29.0|            12.0|           5.0|               202.0|                 411.0|                             296.0|                16.0|         11.0|\n",
      "|  M| 0.475|    0.37| 0.125|      0.5095|        0.2165|                    0.1125|       0.165|    9|        0.0|          19.0|            32.0|           5.0|               991.0|                  16.0|                             127.0|                55.0|          0.0|\n",
      "|  F|  0.55|    0.44|  0.15|      0.8945|        0.3145|                     0.151|        0.32|   19|        2.0|           1.0|             8.0|           0.0|               836.0|                 493.0|                             393.0|                21.0|         15.0|\n",
      "|  F| 0.525|    0.38|  0.14|      0.6065|         0.194|                    0.1475|        0.21|   14|        2.0|          10.0|            18.0|           1.0|               625.0|                  53.0|                             647.0|                28.0|          8.0|\n",
      "|  M|  0.43|    0.35|  0.11|       0.406|        0.1675|                     0.081|       0.135|   10|        0.0|          53.0|            15.0|          13.0|               121.0|                  46.0|                              50.0|                26.0|          1.0|\n",
      "|  M|  0.49|    0.38| 0.135|      0.5415|        0.2175|                     0.095|        0.19|   11|        0.0|          39.0|            18.0|           7.0|               282.0|                 207.0|                             219.0|                22.0|          3.0|\n",
      "|  F| 0.535|   0.405| 0.145|      0.6845|        0.2725|                     0.171|       0.205|   10|        2.0|          30.0|            23.0|           8.0|              2374.0|                 553.0|                              28.0|                47.0|          1.0|\n",
      "|  F|  0.47|   0.355|   0.1|      0.4755|        0.1675|                    0.0805|       0.185|   10|        2.0|          25.0|            21.0|          12.0|               600.0|                  46.0|                             735.0|                 3.0|          1.0|\n",
      "|  M|   0.5|     0.4|  0.13|      0.6645|         0.258|                     0.133|        0.24|   12|        0.0|           6.0|             2.0|           9.0|               783.0|                 392.0|                             199.0|                13.0|          5.0|\n",
      "|  I| 0.355|    0.28| 0.085|      0.2905|         0.095|                    0.0395|       0.115|    7|        1.0|          72.0|            42.0|          23.0|               273.0|                 193.0|                             113.0|                57.0|          4.0|\n",
      "|  F|  0.44|    0.34|   0.1|       0.451|         0.188|                     0.087|        0.13|   10|        2.0|          32.0|            37.0|          12.0|               990.0|                 175.0|                             152.0|                50.0|          1.0|\n",
      "|  M| 0.365|   0.295|  0.08|      0.2555|         0.097|                     0.043|         0.1|    7|        0.0|          76.0|            69.0|          22.0|              1292.0|                   2.0|                             364.0|                43.0|          4.0|\n",
      "|  M|  0.45|    0.32|   0.1|       0.381|        0.1705|                     0.075|       0.115|    9|        0.0|          26.0|            53.0|          12.0|              1839.0|                 244.0|                             321.0|                57.0|          0.0|\n",
      "+---+------+--------+------+------------+--------------+--------------------------+------------+-----+-----------+--------------+----------------+--------------+--------------------+----------------------+----------------------------------+--------------------+-------------+\n",
      "only showing top 20 rows\n",
      "\n"
     ]
    }
   ],
   "source": [
    "#Label encoder\n",
    "from pyspark.ml.feature import StringIndexer\n",
    "indexed = data\n",
    "for col in data.columns:\n",
    "    stringIndexer = StringIndexer(inputCol=col, outputCol=col+\"_encoded\")\n",
    "    indexed = stringIndexer.fit(indexed).transform(indexed)\n",
    "indexed.show()"
   ]
  },
  {
   "cell_type": "code",
   "execution_count": 15,
   "metadata": {},
   "outputs": [
    {
     "name": "stdout",
     "output_type": "stream",
     "text": [
      "+---+------+--------+------+------------+--------------+--------------------------+------------+-----+-----------+--------------+----------------+--------------+--------------------+----------------------+----------------------------------+--------------------+-------------+\n",
      "|Sex|Length|Diameter|Height|Whole weight|Shucked weight|Viscera weightShell weight|Shell weight|Rings|Sex_encoded|Length_encoded|Diameter_encoded|Height_encoded|Whole weight_encoded|Shucked weight_encoded|Viscera weightShell weight_encoded|Shell weight_encoded|Rings_encoded|\n",
      "+---+------+--------+------+------------+--------------+--------------------------+------------+-----+-----------+--------------+----------------+--------------+--------------------+----------------------+----------------------------------+--------------------+-------------+\n",
      "|  M| 0.455|   0.365| 0.095|       0.514|        0.2245|                     0.101|        0.15|   15|        0.0|          42.0|            33.0|          20.0|                91.0|                 598.0|                             577.0|                35.0|         10.0|\n",
      "|  M|  0.35|   0.265|  0.09|      0.2255|        0.0995|                    0.0485|        0.07|    7|        0.0|          54.0|            47.0|          16.0|                68.0|                 418.0|                             361.0|                12.0|          4.0|\n",
      "|  F|  0.53|    0.42| 0.135|       0.677|        0.2565|                    0.1415|        0.21|    9|        2.0|          12.0|            11.0|           7.0|               964.0|                 314.0|                              22.0|                28.0|          0.0|\n",
      "|  M|  0.44|   0.365| 0.125|       0.516|        0.2155|                     0.114|       0.155|   10|        0.0|          32.0|            33.0|           5.0|               360.0|                 344.0|                             169.0|                24.0|          1.0|\n",
      "|  I|  0.33|   0.255|  0.08|       0.205|        0.0895|                    0.0395|       0.055|    7|        1.0|          69.0|            59.0|          22.0|               362.0|                 663.0|                             113.0|                56.0|          4.0|\n",
      "|  I| 0.425|     0.3| 0.095|      0.3515|         0.141|                    0.0775|        0.12|    8|        1.0|          48.0|            38.0|          20.0|               376.0|                 517.0|                             476.0|                14.0|          2.0|\n",
      "|  F|  0.53|   0.415|  0.15|      0.7775|         0.237|                    0.1415|        0.33|   20|        2.0|          12.0|            30.0|           0.0|               389.0|                  48.0|                              22.0|                41.0|         16.0|\n",
      "|  F| 0.545|   0.425| 0.125|       0.768|         0.294|                    0.1495|        0.26|   16|        2.0|          29.0|            12.0|           5.0|               202.0|                 411.0|                             296.0|                16.0|         11.0|\n",
      "|  M| 0.475|    0.37| 0.125|      0.5095|        0.2165|                    0.1125|       0.165|    9|        0.0|          19.0|            32.0|           5.0|               991.0|                  16.0|                             127.0|                55.0|          0.0|\n",
      "|  F|  0.55|    0.44|  0.15|      0.8945|        0.3145|                     0.151|        0.32|   19|        2.0|           1.0|             8.0|           0.0|               836.0|                 493.0|                             393.0|                21.0|         15.0|\n",
      "|  F| 0.525|    0.38|  0.14|      0.6065|         0.194|                    0.1475|        0.21|   14|        2.0|          10.0|            18.0|           1.0|               625.0|                  53.0|                             647.0|                28.0|          8.0|\n",
      "|  M|  0.43|    0.35|  0.11|       0.406|        0.1675|                     0.081|       0.135|   10|        0.0|          53.0|            15.0|          13.0|               121.0|                  46.0|                              50.0|                26.0|          1.0|\n",
      "|  M|  0.49|    0.38| 0.135|      0.5415|        0.2175|                     0.095|        0.19|   11|        0.0|          39.0|            18.0|           7.0|               282.0|                 207.0|                             219.0|                22.0|          3.0|\n",
      "|  F| 0.535|   0.405| 0.145|      0.6845|        0.2725|                     0.171|       0.205|   10|        2.0|          30.0|            23.0|           8.0|              2374.0|                 553.0|                              28.0|                47.0|          1.0|\n",
      "|  F|  0.47|   0.355|   0.1|      0.4755|        0.1675|                    0.0805|       0.185|   10|        2.0|          25.0|            21.0|          12.0|               600.0|                  46.0|                             735.0|                 3.0|          1.0|\n",
      "|  M|   0.5|     0.4|  0.13|      0.6645|         0.258|                     0.133|        0.24|   12|        0.0|           6.0|             2.0|           9.0|               783.0|                 392.0|                             199.0|                13.0|          5.0|\n",
      "|  I| 0.355|    0.28| 0.085|      0.2905|         0.095|                    0.0395|       0.115|    7|        1.0|          72.0|            42.0|          23.0|               273.0|                 193.0|                             113.0|                57.0|          4.0|\n",
      "|  F|  0.44|    0.34|   0.1|       0.451|         0.188|                     0.087|        0.13|   10|        2.0|          32.0|            37.0|          12.0|               990.0|                 175.0|                             152.0|                50.0|          1.0|\n",
      "|  M| 0.365|   0.295|  0.08|      0.2555|         0.097|                     0.043|         0.1|    7|        0.0|          76.0|            69.0|          22.0|              1292.0|                   2.0|                             364.0|                43.0|          4.0|\n",
      "|  M|  0.45|    0.32|   0.1|       0.381|        0.1705|                     0.075|       0.115|    9|        0.0|          26.0|            53.0|          12.0|              1839.0|                 244.0|                             321.0|                57.0|          0.0|\n",
      "+---+------+--------+------+------------+--------------+--------------------------+------------+-----+-----------+--------------+----------------+--------------+--------------------+----------------------+----------------------------------+--------------------+-------------+\n",
      "only showing top 20 rows\n",
      "\n"
     ]
    }
   ],
   "source": [
    "#Label encoder\n",
    "from pyspark.ml.feature import StringIndexer\n",
    "indexed = data\n",
    "for col in data.columns:\n",
    "    stringIndexer = StringIndexer(inputCol=col, outputCol=col+\"_encoded\")\n",
    "    indexed = stringIndexer.fit(indexed).transform(indexed)\n",
    "indexed.show()"
   ]
  },
  {
   "cell_type": "code",
   "execution_count": 26,
   "metadata": {},
   "outputs": [
    {
     "name": "stdout",
     "output_type": "stream",
     "text": [
      "+--------------------+\n",
      "|            features|\n",
      "+--------------------+\n",
      "|[0.101,0.455,0.36...|\n",
      "|[0.0485,0.35,0.26...|\n",
      "|[0.1415,0.53,0.42...|\n",
      "|[0.114,0.44,0.365...|\n",
      "|[0.0395,0.33,0.25...|\n",
      "+--------------------+\n",
      "only showing top 5 rows\n",
      "\n"
     ]
    }
   ],
   "source": [
    "#all the independent variables need to be packed into one column of vector type\n",
    "from pyspark.ml.feature import VectorAssembler\n",
    "assembler = VectorAssembler(inputCols=['Viscera weightShell weight','Length','Diameter','Height','Whole weight','Shucked weight','Shell weight','Rings'], \n",
    "                            outputCol=\"features\")\n",
    "feature_vec=assembler.transform(indexed)\n",
    "feature_vec.select(\"features\").show(5)"
   ]
  },
  {
   "cell_type": "code",
   "execution_count": 27,
   "metadata": {},
   "outputs": [
    {
     "name": "stdout",
     "output_type": "stream",
     "text": [
      "+-----------+-----+\n",
      "|Sex_encoded|count|\n",
      "+-----------+-----+\n",
      "|        0.0| 1528|\n",
      "|        1.0| 1342|\n",
      "|        2.0| 1307|\n",
      "+-----------+-----+\n",
      "\n"
     ]
    }
   ],
   "source": [
    "#Count of target classes\n",
    "feature_vec.groupBy('Sex_encoded').count().show()\n",
    "#there is data imbalance"
   ]
  },
  {
   "cell_type": "code",
   "execution_count": 28,
   "metadata": {},
   "outputs": [],
   "source": [
    "# Split the data into train and test sets\n",
    "train_data, test_data = feature_vec.randomSplit([.75,.25],seed=0)"
   ]
  },
  {
   "cell_type": "code",
   "execution_count": 29,
   "metadata": {},
   "outputs": [
    {
     "name": "stdout",
     "output_type": "stream",
     "text": [
      "+---+------+--------+------+------------+--------------+--------------------------+------------+-----+-----------+--------------+----------------+--------------+--------------------+----------------------+----------------------------------+--------------------+-------------+--------------------+\n",
      "|Sex|Length|Diameter|Height|Whole weight|Shucked weight|Viscera weightShell weight|Shell weight|Rings|Sex_encoded|Length_encoded|Diameter_encoded|Height_encoded|Whole weight_encoded|Shucked weight_encoded|Viscera weightShell weight_encoded|Shell weight_encoded|Rings_encoded|            features|\n",
      "+---+------+--------+------+------------+--------------+--------------------------+------------+-----+-----------+--------------+----------------+--------------+--------------------+----------------------+----------------------------------+--------------------+-------------+--------------------+\n",
      "|  F|  0.29|    0.21| 0.075|       0.275|         0.113|                    0.0675|       0.035|    6|        2.0|          88.0|            68.0|          25.0|              1941.0|                1470.0|                             380.0|                63.0|          6.0|[0.0675,0.29,0.21...|\n",
      "|  F|  0.29|   0.225| 0.075|        0.14|        0.0515|                    0.0235|        0.04|    5|        2.0|          88.0|            66.0|          25.0|               959.0|                1025.0|                             237.0|                72.0|          9.0|[0.0235,0.29,0.22...|\n",
      "|  F| 0.305|    0.23|  0.08|       0.156|        0.0675|                    0.0345|       0.048|    7|        2.0|          99.0|            63.0|          22.0|               880.0|                  36.0|                              89.0|               213.0|          4.0|[0.0345,0.305,0.2...|\n",
      "|  F|  0.33|    0.26|  0.08|         0.2|        0.0625|                      0.05|        0.07|    9|        2.0|          69.0|            58.0|          22.0|               124.0|                 548.0|                             130.0|                12.0|          0.0|[0.05,0.33,0.26,0...|\n",
      "|  F| 0.335|    0.22|  0.07|        0.17|         0.076|                    0.0365|        0.05|    6|        2.0|          68.0|            75.0|          26.0|               123.0|                 347.0|                             175.0|                70.0|          6.0|[0.0365,0.335,0.2...|\n",
      "+---+------+--------+------+------------+--------------+--------------------------+------------+-----+-----------+--------------+----------------+--------------+--------------------+----------------------+----------------------------------+--------------------+-------------+--------------------+\n",
      "only showing top 5 rows\n",
      "\n"
     ]
    }
   ],
   "source": [
    "train_data.show(5)"
   ]
  },
  {
   "cell_type": "code",
   "execution_count": 20,
   "metadata": {},
   "outputs": [
    {
     "name": "stdout",
     "output_type": "stream",
     "text": [
      "+---+------+--------+------+------------+--------------+--------------------------+------------+-----+-----------+--------------+----------------+--------------+--------------------+----------------------+----------------------------------+--------------------+-------------+--------------------+\n",
      "|Sex|Length|Diameter|Height|Whole weight|Shucked weight|Viscera weightShell weight|Shell weight|Rings|Sex_encoded|Length_encoded|Diameter_encoded|Height_encoded|Whole weight_encoded|Shucked weight_encoded|Viscera weightShell weight_encoded|Shell weight_encoded|Rings_encoded|            features|\n",
      "+---+------+--------+------+------------+--------------+--------------------------+------------+-----+-----------+--------------+----------------+--------------+--------------------+----------------------+----------------------------------+--------------------+-------------+--------------------+\n",
      "|  F|  0.29|    0.21| 0.075|       0.275|         0.113|                    0.0675|       0.035|    6|        2.0|          88.0|            68.0|          25.0|              1941.0|                1470.0|                             380.0|                63.0|          6.0|[0.0675,0.29,0.21...|\n",
      "+---+------+--------+------+------------+--------------+--------------------------+------------+-----+-----------+--------------+----------------+--------------+--------------------+----------------------+----------------------------------+--------------------+-------------+--------------------+\n",
      "only showing top 1 row\n",
      "\n"
     ]
    }
   ],
   "source": [
    "train_data.show(1)"
   ]
  },
  {
   "cell_type": "code",
   "execution_count": 30,
   "metadata": {},
   "outputs": [
    {
     "name": "stdout",
     "output_type": "stream",
     "text": [
      "root\n",
      " |-- Sex: string (nullable = true)\n",
      " |-- Length: double (nullable = false)\n",
      " |-- Diameter: double (nullable = false)\n",
      " |-- Height: double (nullable = false)\n",
      " |-- Whole weight: double (nullable = false)\n",
      " |-- Shucked weight: double (nullable = false)\n",
      " |-- Viscera weightShell weight: double (nullable = false)\n",
      " |-- Shell weight: double (nullable = false)\n",
      " |-- Rings: integer (nullable = true)\n",
      " |-- Sex_encoded: double (nullable = true)\n",
      " |-- Length_encoded: double (nullable = true)\n",
      " |-- Diameter_encoded: double (nullable = true)\n",
      " |-- Height_encoded: double (nullable = true)\n",
      " |-- Whole weight_encoded: double (nullable = true)\n",
      " |-- Shucked weight_encoded: double (nullable = true)\n",
      " |-- Viscera weightShell weight_encoded: double (nullable = true)\n",
      " |-- Shell weight_encoded: double (nullable = true)\n",
      " |-- Rings_encoded: double (nullable = true)\n",
      " |-- features: vector (nullable = true)\n",
      " |-- rawPrediction: vector (nullable = true)\n",
      " |-- probability: vector (nullable = true)\n",
      " |-- prediction: double (nullable = true)\n",
      "\n"
     ]
    }
   ],
   "source": [
    "from pyspark.ml.classification import LogisticRegression\n",
    "\n",
    "# Create initial LogisticRegression model\n",
    "lr = LogisticRegression(labelCol=\"Sex_encoded\", featuresCol=\"features\",  \n",
    "                        maxIter=100, regParam=0.0001, family=\"multinomial\",  \n",
    "                        elasticNetParam=0.0)\n",
    "\n",
    "# Train model with Training Data\n",
    "lrModel = lr.fit(train_data)\n",
    "predictions = lrModel.transform(test_data)\n",
    "predictions.printSchema()"
   ]
  },
  {
   "cell_type": "code",
   "execution_count": 31,
   "metadata": {},
   "outputs": [
    {
     "name": "stdout",
     "output_type": "stream",
     "text": [
      "+-----------+----------+\n",
      "|Sex_encoded|prediction|\n",
      "+-----------+----------+\n",
      "|        2.0|       1.0|\n",
      "|        2.0|       1.0|\n",
      "|        2.0|       1.0|\n",
      "|        2.0|       1.0|\n",
      "|        2.0|       1.0|\n",
      "|        2.0|       1.0|\n",
      "|        2.0|       1.0|\n",
      "|        2.0|       1.0|\n",
      "|        2.0|       1.0|\n",
      "|        2.0|       1.0|\n",
      "|        2.0|       1.0|\n",
      "|        2.0|       1.0|\n",
      "|        2.0|       1.0|\n",
      "|        2.0|       1.0|\n",
      "|        2.0|       1.0|\n",
      "|        2.0|       1.0|\n",
      "|        2.0|       1.0|\n",
      "|        2.0|       1.0|\n",
      "|        2.0|       0.0|\n",
      "|        2.0|       1.0|\n",
      "+-----------+----------+\n",
      "only showing top 20 rows\n",
      "\n"
     ]
    }
   ],
   "source": [
    "predictions.select('Sex_encoded','prediction').show()"
   ]
  },
  {
   "cell_type": "code",
   "execution_count": 32,
   "metadata": {},
   "outputs": [
    {
     "data": {
      "text/plain": [
       "0.5663716814159292"
      ]
     },
     "execution_count": 32,
     "metadata": {},
     "output_type": "execute_result"
    }
   ],
   "source": [
    "from pyspark.ml.evaluation import MulticlassClassificationEvaluator\n",
    "\n",
    "evaluator = MulticlassClassificationEvaluator(predictionCol='prediction', labelCol='Sex_encoded', metricName='accuracy')\n",
    "evaluator.evaluate(predictions)"
   ]
  },
  {
   "cell_type": "code",
   "execution_count": 33,
   "metadata": {},
   "outputs": [
    {
     "data": {
      "text/plain": [
       "0.5537879681042486"
      ]
     },
     "execution_count": 33,
     "metadata": {},
     "output_type": "execute_result"
    }
   ],
   "source": [
    "evaluator = MulticlassClassificationEvaluator(predictionCol='prediction', labelCol='Sex_encoded', metricName='f1')\n",
    "evaluator.evaluate(predictions)"
   ]
  },
  {
   "cell_type": "code",
   "execution_count": 34,
   "metadata": {},
   "outputs": [
    {
     "name": "stdout",
     "output_type": "stream",
     "text": [
      "+-----------+-----+\n",
      "|Sex_encoded|count|\n",
      "+-----------+-----+\n",
      "|        0.0|  386|\n",
      "|        1.0|  323|\n",
      "|        2.0|  308|\n",
      "+-----------+-----+\n",
      "\n"
     ]
    }
   ],
   "source": [
    "predictions.groupBy('Sex_encoded').count().show()"
   ]
  },
  {
   "cell_type": "code",
   "execution_count": 35,
   "metadata": {},
   "outputs": [],
   "source": [
    "#Grid Search\n",
    "from pyspark.ml.tuning import ParamGridBuilder, CrossValidator\n",
    "\n",
    "paramGrid = (ParamGridBuilder()\\\n",
    "             .addGrid(lr.regParam,[0.001,0.01,0.1,1])\\\n",
    "             .addGrid(lr.elasticNetParam,[0.0,0.5,1.0])\\\n",
    "             .build())\n",
    "\n",
    "# Create 4-fold CrossValidator\n",
    "cv = CrossValidator(estimator=lr, estimatorParamMaps=paramGrid, evaluator=evaluator, numFolds=4)\n",
    "\n",
    "cvModel = cv.fit(train_data)"
   ]
  },
  {
   "cell_type": "code",
   "execution_count": 36,
   "metadata": {},
   "outputs": [
    {
     "data": {
      "text/plain": [
       "[(0.5394926364202273,\n",
       "  {Param(parent='LogisticRegression_4b9e8cdff58bc562d4af', name='regParam', doc='regularization parameter (>= 0).'): 0.001,\n",
       "   Param(parent='LogisticRegression_4b9e8cdff58bc562d4af', name='elasticNetParam', doc='the ElasticNet mixing parameter, in range [0, 1]. For alpha = 0, the penalty is an L2 penalty. For alpha = 1, it is an L1 penalty.'): 0.0}),\n",
       " (0.5315962351914789,\n",
       "  {Param(parent='LogisticRegression_4b9e8cdff58bc562d4af', name='regParam', doc='regularization parameter (>= 0).'): 0.001,\n",
       "   Param(parent='LogisticRegression_4b9e8cdff58bc562d4af', name='elasticNetParam', doc='the ElasticNet mixing parameter, in range [0, 1]. For alpha = 0, the penalty is an L2 penalty. For alpha = 1, it is an L1 penalty.'): 0.5}),\n",
       " (0.5341187842189148,\n",
       "  {Param(parent='LogisticRegression_4b9e8cdff58bc562d4af', name='regParam', doc='regularization parameter (>= 0).'): 0.001,\n",
       "   Param(parent='LogisticRegression_4b9e8cdff58bc562d4af', name='elasticNetParam', doc='the ElasticNet mixing parameter, in range [0, 1]. For alpha = 0, the penalty is an L2 penalty. For alpha = 1, it is an L1 penalty.'): 1.0}),\n",
       " (0.5372662266000676,\n",
       "  {Param(parent='LogisticRegression_4b9e8cdff58bc562d4af', name='regParam', doc='regularization parameter (>= 0).'): 0.01,\n",
       "   Param(parent='LogisticRegression_4b9e8cdff58bc562d4af', name='elasticNetParam', doc='the ElasticNet mixing parameter, in range [0, 1]. For alpha = 0, the penalty is an L2 penalty. For alpha = 1, it is an L1 penalty.'): 0.0}),\n",
       " (0.532036764714238,\n",
       "  {Param(parent='LogisticRegression_4b9e8cdff58bc562d4af', name='regParam', doc='regularization parameter (>= 0).'): 0.01,\n",
       "   Param(parent='LogisticRegression_4b9e8cdff58bc562d4af', name='elasticNetParam', doc='the ElasticNet mixing parameter, in range [0, 1]. For alpha = 0, the penalty is an L2 penalty. For alpha = 1, it is an L1 penalty.'): 0.5}),\n",
       " (0.519618865838725,\n",
       "  {Param(parent='LogisticRegression_4b9e8cdff58bc562d4af', name='regParam', doc='regularization parameter (>= 0).'): 0.01,\n",
       "   Param(parent='LogisticRegression_4b9e8cdff58bc562d4af', name='elasticNetParam', doc='the ElasticNet mixing parameter, in range [0, 1]. For alpha = 0, the penalty is an L2 penalty. For alpha = 1, it is an L1 penalty.'): 1.0}),\n",
       " (0.5208327439067824,\n",
       "  {Param(parent='LogisticRegression_4b9e8cdff58bc562d4af', name='regParam', doc='regularization parameter (>= 0).'): 0.1,\n",
       "   Param(parent='LogisticRegression_4b9e8cdff58bc562d4af', name='elasticNetParam', doc='the ElasticNet mixing parameter, in range [0, 1]. For alpha = 0, the penalty is an L2 penalty. For alpha = 1, it is an L1 penalty.'): 0.0}),\n",
       " (0.43650354809379827,\n",
       "  {Param(parent='LogisticRegression_4b9e8cdff58bc562d4af', name='regParam', doc='regularization parameter (>= 0).'): 0.1,\n",
       "   Param(parent='LogisticRegression_4b9e8cdff58bc562d4af', name='elasticNetParam', doc='the ElasticNet mixing parameter, in range [0, 1]. For alpha = 0, the penalty is an L2 penalty. For alpha = 1, it is an L1 penalty.'): 0.5}),\n",
       " (0.43923146851625405,\n",
       "  {Param(parent='LogisticRegression_4b9e8cdff58bc562d4af', name='regParam', doc='regularization parameter (>= 0).'): 0.1,\n",
       "   Param(parent='LogisticRegression_4b9e8cdff58bc562d4af', name='elasticNetParam', doc='the ElasticNet mixing parameter, in range [0, 1]. For alpha = 0, the penalty is an L2 penalty. For alpha = 1, it is an L1 penalty.'): 1.0}),\n",
       " (0.4479447354186494,\n",
       "  {Param(parent='LogisticRegression_4b9e8cdff58bc562d4af', name='regParam', doc='regularization parameter (>= 0).'): 1,\n",
       "   Param(parent='LogisticRegression_4b9e8cdff58bc562d4af', name='elasticNetParam', doc='the ElasticNet mixing parameter, in range [0, 1]. For alpha = 0, the penalty is an L2 penalty. For alpha = 1, it is an L1 penalty.'): 0.0}),\n",
       " (0.19180391470837133,\n",
       "  {Param(parent='LogisticRegression_4b9e8cdff58bc562d4af', name='regParam', doc='regularization parameter (>= 0).'): 1,\n",
       "   Param(parent='LogisticRegression_4b9e8cdff58bc562d4af', name='elasticNetParam', doc='the ElasticNet mixing parameter, in range [0, 1]. For alpha = 0, the penalty is an L2 penalty. For alpha = 1, it is an L1 penalty.'): 0.5}),\n",
       " (0.19180391470837133,\n",
       "  {Param(parent='LogisticRegression_4b9e8cdff58bc562d4af', name='regParam', doc='regularization parameter (>= 0).'): 1,\n",
       "   Param(parent='LogisticRegression_4b9e8cdff58bc562d4af', name='elasticNetParam', doc='the ElasticNet mixing parameter, in range [0, 1]. For alpha = 0, the penalty is an L2 penalty. For alpha = 1, it is an L1 penalty.'): 1.0})]"
      ]
     },
     "execution_count": 36,
     "metadata": {},
     "output_type": "execute_result"
    }
   ],
   "source": [
    "list(zip(cvModel.avgMetrics, cvModel.getEstimatorParamMaps()))"
   ]
  },
  {
   "cell_type": "code",
   "execution_count": 37,
   "metadata": {},
   "outputs": [
    {
     "data": {
      "text/plain": [
       "(0.5394926364202273,\n",
       " {Param(parent='LogisticRegression_4b9e8cdff58bc562d4af', name='regParam', doc='regularization parameter (>= 0).'): 0.001,\n",
       "  Param(parent='LogisticRegression_4b9e8cdff58bc562d4af', name='elasticNetParam', doc='the ElasticNet mixing parameter, in range [0, 1]. For alpha = 0, the penalty is an L2 penalty. For alpha = 1, it is an L1 penalty.'): 0.0})"
      ]
     },
     "execution_count": 37,
     "metadata": {},
     "output_type": "execute_result"
    }
   ],
   "source": [
    "#Best Model Params\n",
    "score_params_list = list(zip(cvModel.avgMetrics, cvModel.getEstimatorParamMaps()))\n",
    "max(score_params_list,key=lambda item:item[0])"
   ]
  },
  {
   "cell_type": "code",
   "execution_count": 38,
   "metadata": {},
   "outputs": [],
   "source": [
    "predictions = cvModel.bestModel.transform(test_data)"
   ]
  },
  {
   "cell_type": "code",
   "execution_count": 39,
   "metadata": {},
   "outputs": [
    {
     "data": {
      "text/plain": [
       "0.5596576259026393"
      ]
     },
     "execution_count": 39,
     "metadata": {},
     "output_type": "execute_result"
    }
   ],
   "source": [
    "evaluator.evaluate(predictions)"
   ]
  },
  {
   "cell_type": "code",
   "execution_count": 40,
   "metadata": {
    "scrolled": false
   },
   "outputs": [
    {
     "name": "stdout",
     "output_type": "stream",
     "text": [
      "+---+------+--------+------+------------+--------------+--------------------------+------------+-----+\n",
      "|Sex|Length|Diameter|Height|Whole weight|Shucked weight|Viscera weightShell weight|Shell weight|Rings|\n",
      "+---+------+--------+------+------------+--------------+--------------------------+------------+-----+\n",
      "|  M| 0.455|   0.365| 0.095|       0.514|        0.2245|                     0.101|        0.15|   15|\n",
      "|  M|  0.35|   0.265|  0.09|      0.2255|        0.0995|                    0.0485|        0.07|    7|\n",
      "|  F|  0.53|    0.42| 0.135|       0.677|        0.2565|                    0.1415|        0.21|    9|\n",
      "|  M|  0.44|   0.365| 0.125|       0.516|        0.2155|                     0.114|       0.155|   10|\n",
      "|  I|  0.33|   0.255|  0.08|       0.205|        0.0895|                    0.0395|       0.055|    7|\n",
      "|  I| 0.425|     0.3| 0.095|      0.3515|         0.141|                    0.0775|        0.12|    8|\n",
      "|  F|  0.53|   0.415|  0.15|      0.7775|         0.237|                    0.1415|        0.33|   20|\n",
      "|  F| 0.545|   0.425| 0.125|       0.768|         0.294|                    0.1495|        0.26|   16|\n",
      "|  M| 0.475|    0.37| 0.125|      0.5095|        0.2165|                    0.1125|       0.165|    9|\n",
      "|  F|  0.55|    0.44|  0.15|      0.8945|        0.3145|                     0.151|        0.32|   19|\n",
      "|  F| 0.525|    0.38|  0.14|      0.6065|         0.194|                    0.1475|        0.21|   14|\n",
      "|  M|  0.43|    0.35|  0.11|       0.406|        0.1675|                     0.081|       0.135|   10|\n",
      "|  M|  0.49|    0.38| 0.135|      0.5415|        0.2175|                     0.095|        0.19|   11|\n",
      "|  F| 0.535|   0.405| 0.145|      0.6845|        0.2725|                     0.171|       0.205|   10|\n",
      "|  F|  0.47|   0.355|   0.1|      0.4755|        0.1675|                    0.0805|       0.185|   10|\n",
      "|  M|   0.5|     0.4|  0.13|      0.6645|         0.258|                     0.133|        0.24|   12|\n",
      "|  I| 0.355|    0.28| 0.085|      0.2905|         0.095|                    0.0395|       0.115|    7|\n",
      "|  F|  0.44|    0.34|   0.1|       0.451|         0.188|                     0.087|        0.13|   10|\n",
      "|  M| 0.365|   0.295|  0.08|      0.2555|         0.097|                     0.043|         0.1|    7|\n",
      "|  M|  0.45|    0.32|   0.1|       0.381|        0.1705|                     0.075|       0.115|    9|\n",
      "+---+------+--------+------+------------+--------------+--------------------------+------------+-----+\n",
      "only showing top 20 rows\n",
      "\n"
     ]
    }
   ],
   "source": [
    "data.show()"
   ]
  },
  {
   "attachments": {
    "image.png": {
     "image/png": "[encoded data removed]"
    }
   },
   "cell_type": "markdown",
   "metadata": {},
   "source": [
    "knn model\t52.78%\n",
    "Logistic Regression\t55.58%\n",
    "RandomForest\t54.96%\n",
    "AdaBoost\t55.01%\n",
    "![image.png](attachment:image.png)"
   ]
  },
  {
   "cell_type": "code",
   "execution_count": null,
   "metadata": {},
   "outputs": [],
   "source": [
    "#All the models,KNN 52.78% Logistic regression 55.58% ADA Boost 55.01 Randam forest 54.96%.The best is LR 55.58% amongst them.\n",
    "#Even  though we used the best predictive models the data set doesnt give us the best numbers and it is not worth it to \n",
    "carry on further analysis with this data set.The best predictor with accuracy 55.96% in Logistic Regression Pyspark is the \n",
    "best but the rates are not good enough to select the model.\n",
    "\n",
    "Thanks & rgds\n",
    "\n",
    "Arun kumar\n"
   ]
  }
 ],
 "metadata": {
  "kernelspec": {
   "display_name": "Python 3",
   "language": "python",
   "name": "python3"
  },
  "language_info": {
   "codemirror_mode": {
    "name": "ipython",
    "version": 3
   },
   "file_extension": ".py",
   "mimetype": "text/x-python",
   "name": "python",
   "nbconvert_exporter": "python",
   "pygments_lexer": "ipython3",
   "version": "3.8.5"
  },
  "toc": {
   "base_numbering": 1,
   "nav_menu": {},
   "number_sections": true,
   "sideBar": true,
   "skip_h1_title": false,
   "title_cell": "Table of Contents",
   "title_sidebar": "Contents",
   "toc_cell": false,
   "toc_position": {},
   "toc_section_display": true,
   "toc_window_display": false
  }
 },
 "nbformat": 4,
 "nbformat_minor": 4
}
